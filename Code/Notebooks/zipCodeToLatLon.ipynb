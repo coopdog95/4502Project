{
 "cells": [
  {
   "cell_type": "code",
   "execution_count": null,
   "metadata": {},
   "outputs": [],
   "source": [
    "%pylab inline"
   ]
  },
  {
   "cell_type": "code",
   "execution_count": null,
   "metadata": {
    "collapsed": true
   },
   "outputs": [],
   "source": [
    "import plotly\n",
    "import plotly.plotly as py\n",
    "import plotly.graph_objs as go\n",
    "\n",
    "import pandas as pd\n",
    "import numpy as np\n",
    "\n",
    "from uszipcode import ZipcodeSearchEngine\n",
    "search = ZipcodeSearchEngine()\n",
    "#zipcode = search.by_zipcode(\"10001\")\n",
    "#zip2 = search.by_zipcode(data['zipcode'][0])\n",
    "#print(zip2.Latitude)\n",
    "\n",
    "df = pd.read_csv(\"zips.csv\")\n",
    "#data.head(10)"
   ]
  },
  {
   "cell_type": "code",
   "execution_count": null,
   "metadata": {},
   "outputs": [],
   "source": [
    "\n",
    "def zipToLatitude(x):\n",
    "    latt = search.by_zipcode(int(x))['Latitude']\n",
    "    return latt\n",
    "\n",
    "def zipToLongitude(x):\n",
    "    longg = search.by_zipcode(int(x))['Longitude']\n",
    "    return longg\n"
   ]
  },
  {
   "cell_type": "code",
   "execution_count": null,
   "metadata": {},
   "outputs": [],
   "source": [
    "df.count()"
   ]
  },
  {
   "cell_type": "code",
   "execution_count": null,
   "metadata": {},
   "outputs": [],
   "source": [
    "%time df['latitude'] = df['zipcode'][0:500].apply(lambda x: zipToLatitude(x) if not(96898 > x > 96701) else np.nan)\n",
    "df['longitude'] = df['zipcode'][0:500].apply(lambda x: zipToLongitude(x) if not(96898 > x > 96701) else np.nan)\n",
    "\n",
    "#df = df.drop(df.latitude.index == np.nan)\n",
    "#df.head(10)\n",
    "%time df = df[np.isfinite(df['latitude'])]\n",
    "df.head(10)"
   ]
  },
  {
   "cell_type": "code",
   "execution_count": null,
   "metadata": {},
   "outputs": [],
   "source": [
    "df = df.reset_index(drop=True)\n"
   ]
  },
  {
   "cell_type": "code",
   "execution_count": null,
   "metadata": {},
   "outputs": [],
   "source": [
    "df.head(40)"
   ]
  },
  {
   "cell_type": "code",
   "execution_count": null,
   "metadata": {
    "collapsed": true
   },
   "outputs": [],
   "source": []
  }
 ],
 "metadata": {
  "kernelspec": {
   "display_name": "Python 3",
   "language": "python",
   "name": "python3"
  },
  "language_info": {
   "codemirror_mode": {
    "name": "ipython",
    "version": 3
   },
   "file_extension": ".py",
   "mimetype": "text/x-python",
   "name": "python",
   "nbconvert_exporter": "python",
   "pygments_lexer": "ipython3",
   "version": "3.6.3"
  }
 },
 "nbformat": 4,
 "nbformat_minor": 2
}
