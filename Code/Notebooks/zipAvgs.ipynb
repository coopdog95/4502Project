{
 "cells": [
  {
   "cell_type": "code",
   "execution_count": 1,
   "metadata": {},
   "outputs": [
    {
     "name": "stdout",
     "output_type": "stream",
     "text": [
      "Populating the interactive namespace from numpy and matplotlib\n"
     ]
    }
   ],
   "source": [
    "%pylab inline"
   ]
  },
  {
   "cell_type": "code",
   "execution_count": 2,
   "metadata": {
    "collapsed": true
   },
   "outputs": [],
   "source": [
    "import pandas as pd\n",
    "import numpy as np\n",
    "\n",
    "df = pd.read_csv(\"zipLatLon.csv\")\n"
   ]
  },
  {
   "cell_type": "code",
   "execution_count": 3,
   "metadata": {},
   "outputs": [
    {
     "data": {
      "text/html": [
       "<div>\n",
       "<style>\n",
       "    .dataframe thead tr:only-child th {\n",
       "        text-align: right;\n",
       "    }\n",
       "\n",
       "    .dataframe thead th {\n",
       "        text-align: left;\n",
       "    }\n",
       "\n",
       "    .dataframe tbody tr th {\n",
       "        vertical-align: top;\n",
       "    }\n",
       "</style>\n",
       "<table border=\"1\" class=\"dataframe\">\n",
       "  <thead>\n",
       "    <tr style=\"text-align: right;\">\n",
       "      <th></th>\n",
       "      <th>zipcode</th>\n",
       "      <th>agi_stub</th>\n",
       "      <th>n1</th>\n",
       "    </tr>\n",
       "  </thead>\n",
       "  <tbody>\n",
       "    <tr>\n",
       "      <th>0</th>\n",
       "      <td>99501</td>\n",
       "      <td>1</td>\n",
       "      <td>1459</td>\n",
       "    </tr>\n",
       "    <tr>\n",
       "      <th>1</th>\n",
       "      <td>99501</td>\n",
       "      <td>2</td>\n",
       "      <td>1713</td>\n",
       "    </tr>\n",
       "    <tr>\n",
       "      <th>2</th>\n",
       "      <td>99501</td>\n",
       "      <td>3</td>\n",
       "      <td>1896</td>\n",
       "    </tr>\n",
       "    <tr>\n",
       "      <th>3</th>\n",
       "      <td>99501</td>\n",
       "      <td>4</td>\n",
       "      <td>839</td>\n",
       "    </tr>\n",
       "    <tr>\n",
       "      <th>4</th>\n",
       "      <td>99501</td>\n",
       "      <td>5</td>\n",
       "      <td>417</td>\n",
       "    </tr>\n",
       "  </tbody>\n",
       "</table>\n",
       "</div>"
      ],
      "text/plain": [
       "   zipcode  agi_stub    n1\n",
       "0    99501         1  1459\n",
       "1    99501         2  1713\n",
       "2    99501         3  1896\n",
       "3    99501         4   839\n",
       "4    99501         5   417"
      ]
     },
     "execution_count": 3,
     "metadata": {},
     "output_type": "execute_result"
    }
   ],
   "source": [
    "df05 = pd.read_csv(\"FIX2005zip.csv\")\n",
    "df06 = pd.read_csv(\"FIX2006zip.csv\") #1-7\n",
    "df07 = pd.read_csv(\"FIX2007zip.csv\") #1-7\n",
    "df08 = pd.read_csv(\"FIX2008zip.csv\") #1-7\n",
    "df09 = pd.read_csv(\"FIX2009zip.csv\") #1-7\n",
    "df10 = pd.read_csv(\"FIX2010zip.csv\")\n",
    "#df.head(20)\n",
    "df05.head()\n"
   ]
  },
  {
   "cell_type": "code",
   "execution_count": 6,
   "metadata": {},
   "outputs": [
    {
     "data": {
      "text/plain": [
       "1    38496\n",
       "3    37424\n",
       "2    37165\n",
       "4    36121\n",
       "5    33385\n",
       "6    30478\n",
       "7    19612\n",
       "Name: agi_stub, dtype: int64"
      ]
     },
     "execution_count": 6,
     "metadata": {},
     "output_type": "execute_result"
    }
   ],
   "source": [
    "df12 = pd.read_csv(\"FIX2012zip.csv\")\n",
    "df07['agi_stub'].value_counts()"
   ]
  },
  {
   "cell_type": "code",
   "execution_count": 7,
   "metadata": {
    "collapsed": true
   },
   "outputs": [],
   "source": [
    "def Multipl(x):\n",
    "        return x['agi_stub']*x['n1']\n",
    "    "
   ]
  },
  {
   "cell_type": "code",
   "execution_count": 11,
   "metadata": {},
   "outputs": [
    {
     "data": {
      "text/plain": [
       "99501"
      ]
     },
     "execution_count": 11,
     "metadata": {},
     "output_type": "execute_result"
    }
   ],
   "source": [
    "df08['agi_stub'].value_counts()\n",
    "df08['zipcode'][6]"
   ]
  },
  {
   "cell_type": "code",
   "execution_count": null,
   "metadata": {
    "collapsed": true
   },
   "outputs": [],
   "source": [
    "df05['multiplied'] = df05.apply(Multipl, axis=1)\n",
    "#totalCount = df05['agi_stub'].count()\n",
    "#totalCount\n",
    "#df05.head(60)"
   ]
  },
  {
   "cell_type": "code",
   "execution_count": null,
   "metadata": {
    "collapsed": true
   },
   "outputs": [],
   "source": [
    "#df05.count()\n",
    "231006/6"
   ]
  },
  {
   "cell_type": "code",
   "execution_count": null,
   "metadata": {
    "collapsed": true
   },
   "outputs": [],
   "source": [
    "newDF = pd.DataFrame(index=range(38501),columns=['zipcode','avg_agi'])\n",
    "#newDF.head()"
   ]
  },
  {
   "cell_type": "code",
   "execution_count": null,
   "metadata": {},
   "outputs": [],
   "source": [
    "#newDF['avg_agi'] = (df05_2['new'][st:end].sum())/(df05_2['n1'][st:end].sum())\n",
    "\n",
    "newDF['zipcode'] = list(df05['zipcode'][::6])\n",
    "newDF.head()"
   ]
  },
  {
   "cell_type": "code",
   "execution_count": null,
   "metadata": {
    "collapsed": true
   },
   "outputs": [],
   "source": [
    "inde = 0\n",
    "st = 0\n",
    "end = 6\n",
    "while st < 231006:\n",
    "    try:\n",
    "        newDF.loc[inde, 'avg_agi'] = df05['multiplied'][st:end].sum()/(df05['n1'][st:end].sum()) #this works to get avg AGI\n",
    "        st += 6\n",
    "        end += 6\n",
    "        inde += 1\n",
    "        \n",
    "    except ZeroDivisionError:\n",
    "        newDF.loc[inde, 'avg_agi'] = 0.0 \n",
    "        st += 6\n",
    "        end += 6\n",
    "        inde += 1\n",
    "            "
   ]
  },
  {
   "cell_type": "code",
   "execution_count": null,
   "metadata": {
    "collapsed": true
   },
   "outputs": [],
   "source": [
    "#newDF.tail(30)"
   ]
  },
  {
   "cell_type": "code",
   "execution_count": null,
   "metadata": {
    "collapsed": true
   },
   "outputs": [],
   "source": [
    "#result = pd.concat([df.set_index('zipcode'), newDF.set_index('zipcode')], axis=1, join='inner').reset_index()\n",
    "#newDF.describe()\n",
    "#df.describe()\n",
    "#result = newDF.merge(df, on='zipcode', how='inner', suffixes=('_1', '_2'))\n",
    "\n",
    "result = pd.merge(df, newDF, on='zipcode')"
   ]
  },
  {
   "cell_type": "code",
   "execution_count": null,
   "metadata": {},
   "outputs": [],
   "source": [
    "#result2 = result.merge(newDF, on='avg_agi', how='inner')\n",
    "\n",
    "result.head(40)\n",
    "#newDF.head(40)\n",
    "\n",
    "#newDF.loc[newDF['zipcode'] == 35004]\n",
    "\n",
    "#result.to_csv(\"zips2005agi.csv\", index=False)"
   ]
  },
  {
   "cell_type": "code",
   "execution_count": null,
   "metadata": {},
   "outputs": [],
   "source": [
    "result.isnull().any()"
   ]
  },
  {
   "cell_type": "code",
   "execution_count": null,
   "metadata": {},
   "outputs": [],
   "source": [
    "result['zipcode'].count()/6"
   ]
  },
  {
   "cell_type": "code",
   "execution_count": null,
   "metadata": {
    "collapsed": true
   },
   "outputs": [],
   "source": []
  }
 ],
 "metadata": {
  "kernelspec": {
   "display_name": "Python 3",
   "language": "python",
   "name": "python3"
  },
  "language_info": {
   "codemirror_mode": {
    "name": "ipython",
    "version": 3
   },
   "file_extension": ".py",
   "mimetype": "text/x-python",
   "name": "python",
   "nbconvert_exporter": "python",
   "pygments_lexer": "ipython3",
   "version": "3.6.3"
  }
 },
 "nbformat": 4,
 "nbformat_minor": 2
}
