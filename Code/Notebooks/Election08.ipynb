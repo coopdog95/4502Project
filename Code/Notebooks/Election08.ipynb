{
 "cells": [
  {
   "cell_type": "code",
   "execution_count": 2,
   "metadata": {},
   "outputs": [
    {
     "name": "stdout",
     "output_type": "stream",
     "text": [
      "Populating the interactive namespace from numpy and matplotlib\n"
     ]
    }
   ],
   "source": [
    "get_ipython().magic('pylab inline')"
   ]
  },
  {
   "cell_type": "code",
   "execution_count": 9,
   "metadata": {
    "collapsed": true
   },
   "outputs": [],
   "source": [
    "import sys\n",
    "import csv\n",
    "import math\n",
    "import folium\n",
    "import json\n",
    "import pandas as pd\n",
    "import numpy as np\n",
    "import matplotlib.pyplot as plt\n",
    "import geojson\n",
    "from scipy import stats\n",
    "\n",
    "%matplotlib inline\n",
    "data4 = pd.read_csv(\"/home/elena/Documents/DataMining/Data/ElectionData/file_part_01.csv\")\n",
    "data5 = pd.read_csv(\"/home/elena/Documents/DataMining/Data/CleanedCSVs/2009Cluster.csv\")\n",
    "data6 = pd.read_csv(\"/home/elena/Downloads/us_postal_codes.csv\")\n",
    "\n"
   ]
  },
  {
   "cell_type": "code",
   "execution_count": 5,
   "metadata": {
    "scrolled": false
   },
   "outputs": [
    {
     "data": {
      "text/html": [
       "<div>\n",
       "<style>\n",
       "    .dataframe thead tr:only-child th {\n",
       "        text-align: right;\n",
       "    }\n",
       "\n",
       "    .dataframe thead th {\n",
       "        text-align: left;\n",
       "    }\n",
       "\n",
       "    .dataframe tbody tr th {\n",
       "        vertical-align: top;\n",
       "    }\n",
       "</style>\n",
       "<table border=\"1\" class=\"dataframe\">\n",
       "  <thead>\n",
       "    <tr style=\"text-align: right;\">\n",
       "      <th></th>\n",
       "      <th>year</th>\n",
       "      <th>state</th>\n",
       "      <th>county</th>\n",
       "      <th>fips</th>\n",
       "      <th>vote_rep</th>\n",
       "      <th>vote_dem</th>\n",
       "      <th>vote_oth</th>\n",
       "      <th>vote_total</th>\n",
       "      <th>pct_rep</th>\n",
       "      <th>pct_dem</th>\n",
       "      <th>pct_oth</th>\n",
       "      <th>winner</th>\n",
       "      <th>runnerup</th>\n",
       "      <th>pct_winner</th>\n",
       "      <th>margin_winner_over_runnerup</th>\n",
       "    </tr>\n",
       "  </thead>\n",
       "  <tbody>\n",
       "    <tr>\n",
       "      <th>0</th>\n",
       "      <td>2008</td>\n",
       "      <td>AL</td>\n",
       "      <td>Autauga County</td>\n",
       "      <td>1001</td>\n",
       "      <td>17403</td>\n",
       "      <td>6093</td>\n",
       "      <td>145</td>\n",
       "      <td>23641</td>\n",
       "      <td>73.6</td>\n",
       "      <td>25.8</td>\n",
       "      <td>0.6</td>\n",
       "      <td>rep</td>\n",
       "      <td>dem</td>\n",
       "      <td>73.6</td>\n",
       "      <td>47.8</td>\n",
       "    </tr>\n",
       "    <tr>\n",
       "      <th>1</th>\n",
       "      <td>2008</td>\n",
       "      <td>AL</td>\n",
       "      <td>Baldwin County</td>\n",
       "      <td>1003</td>\n",
       "      <td>61271</td>\n",
       "      <td>19386</td>\n",
       "      <td>756</td>\n",
       "      <td>81413</td>\n",
       "      <td>75.3</td>\n",
       "      <td>23.8</td>\n",
       "      <td>0.9</td>\n",
       "      <td>rep</td>\n",
       "      <td>dem</td>\n",
       "      <td>75.3</td>\n",
       "      <td>51.5</td>\n",
       "    </tr>\n",
       "    <tr>\n",
       "      <th>2</th>\n",
       "      <td>2008</td>\n",
       "      <td>AL</td>\n",
       "      <td>Barbour County</td>\n",
       "      <td>1005</td>\n",
       "      <td>5866</td>\n",
       "      <td>5697</td>\n",
       "      <td>67</td>\n",
       "      <td>11630</td>\n",
       "      <td>50.4</td>\n",
       "      <td>49.0</td>\n",
       "      <td>0.6</td>\n",
       "      <td>rep</td>\n",
       "      <td>dem</td>\n",
       "      <td>50.4</td>\n",
       "      <td>1.4</td>\n",
       "    </tr>\n",
       "    <tr>\n",
       "      <th>3</th>\n",
       "      <td>2008</td>\n",
       "      <td>AL</td>\n",
       "      <td>Bibb County</td>\n",
       "      <td>1007</td>\n",
       "      <td>6262</td>\n",
       "      <td>2299</td>\n",
       "      <td>83</td>\n",
       "      <td>8644</td>\n",
       "      <td>72.4</td>\n",
       "      <td>26.6</td>\n",
       "      <td>1.0</td>\n",
       "      <td>rep</td>\n",
       "      <td>dem</td>\n",
       "      <td>72.4</td>\n",
       "      <td>45.8</td>\n",
       "    </tr>\n",
       "    <tr>\n",
       "      <th>4</th>\n",
       "      <td>2008</td>\n",
       "      <td>AL</td>\n",
       "      <td>Blount County</td>\n",
       "      <td>1009</td>\n",
       "      <td>20389</td>\n",
       "      <td>3522</td>\n",
       "      <td>356</td>\n",
       "      <td>24267</td>\n",
       "      <td>84.0</td>\n",
       "      <td>14.5</td>\n",
       "      <td>1.5</td>\n",
       "      <td>rep</td>\n",
       "      <td>dem</td>\n",
       "      <td>84.0</td>\n",
       "      <td>69.5</td>\n",
       "    </tr>\n",
       "    <tr>\n",
       "      <th>5</th>\n",
       "      <td>2008</td>\n",
       "      <td>AL</td>\n",
       "      <td>Bullock County</td>\n",
       "      <td>1011</td>\n",
       "      <td>1391</td>\n",
       "      <td>4011</td>\n",
       "      <td>13</td>\n",
       "      <td>5415</td>\n",
       "      <td>25.7</td>\n",
       "      <td>74.1</td>\n",
       "      <td>0.2</td>\n",
       "      <td>dem</td>\n",
       "      <td>rep</td>\n",
       "      <td>74.1</td>\n",
       "      <td>48.4</td>\n",
       "    </tr>\n",
       "  </tbody>\n",
       "</table>\n",
       "</div>"
      ],
      "text/plain": [
       "   year state          county  fips  vote_rep  vote_dem  vote_oth  vote_total  \\\n",
       "0  2008    AL  Autauga County  1001     17403      6093       145       23641   \n",
       "1  2008    AL  Baldwin County  1003     61271     19386       756       81413   \n",
       "2  2008    AL  Barbour County  1005      5866      5697        67       11630   \n",
       "3  2008    AL     Bibb County  1007      6262      2299        83        8644   \n",
       "4  2008    AL   Blount County  1009     20389      3522       356       24267   \n",
       "5  2008    AL  Bullock County  1011      1391      4011        13        5415   \n",
       "\n",
       "   pct_rep  pct_dem  pct_oth winner runnerup  pct_winner  \\\n",
       "0     73.6     25.8      0.6    rep      dem        73.6   \n",
       "1     75.3     23.8      0.9    rep      dem        75.3   \n",
       "2     50.4     49.0      0.6    rep      dem        50.4   \n",
       "3     72.4     26.6      1.0    rep      dem        72.4   \n",
       "4     84.0     14.5      1.5    rep      dem        84.0   \n",
       "5     25.7     74.1      0.2    dem      rep        74.1   \n",
       "\n",
       "   margin_winner_over_runnerup  \n",
       "0                         47.8  \n",
       "1                         51.5  \n",
       "2                          1.4  \n",
       "3                         45.8  \n",
       "4                         69.5  \n",
       "5                         48.4  "
      ]
     },
     "execution_count": 5,
     "metadata": {},
     "output_type": "execute_result"
    }
   ],
   "source": [
    "data4.head(6)\n"
   ]
  },
  {
   "cell_type": "code",
   "execution_count": 7,
   "metadata": {},
   "outputs": [
    {
     "data": {
      "text/html": [
       "<div>\n",
       "<style>\n",
       "    .dataframe thead tr:only-child th {\n",
       "        text-align: right;\n",
       "    }\n",
       "\n",
       "    .dataframe thead th {\n",
       "        text-align: left;\n",
       "    }\n",
       "\n",
       "    .dataframe tbody tr th {\n",
       "        vertical-align: top;\n",
       "    }\n",
       "</style>\n",
       "<table border=\"1\" class=\"dataframe\">\n",
       "  <thead>\n",
       "    <tr style=\"text-align: right;\">\n",
       "      <th></th>\n",
       "      <th>zipcode</th>\n",
       "      <th>latitude</th>\n",
       "      <th>longitude</th>\n",
       "      <th>avg_agi</th>\n",
       "      <th>Cluster</th>\n",
       "    </tr>\n",
       "  </thead>\n",
       "  <tbody>\n",
       "    <tr>\n",
       "      <th>0</th>\n",
       "      <td>35004.0</td>\n",
       "      <td>33.601525</td>\n",
       "      <td>-86.489546</td>\n",
       "      <td>3.084004</td>\n",
       "      <td>2</td>\n",
       "    </tr>\n",
       "    <tr>\n",
       "      <th>1</th>\n",
       "      <td>35005.0</td>\n",
       "      <td>33.604745</td>\n",
       "      <td>-87.042439</td>\n",
       "      <td>2.785734</td>\n",
       "      <td>1</td>\n",
       "    </tr>\n",
       "    <tr>\n",
       "      <th>2</th>\n",
       "      <td>35006.0</td>\n",
       "      <td>33.429346</td>\n",
       "      <td>-87.202099</td>\n",
       "      <td>2.885881</td>\n",
       "      <td>1</td>\n",
       "    </tr>\n",
       "    <tr>\n",
       "      <th>3</th>\n",
       "      <td>35007.0</td>\n",
       "      <td>33.228822</td>\n",
       "      <td>-86.791901</td>\n",
       "      <td>3.262145</td>\n",
       "      <td>4</td>\n",
       "    </tr>\n",
       "    <tr>\n",
       "      <th>4</th>\n",
       "      <td>35010.0</td>\n",
       "      <td>32.944644</td>\n",
       "      <td>-85.910009</td>\n",
       "      <td>2.642072</td>\n",
       "      <td>1</td>\n",
       "    </tr>\n",
       "  </tbody>\n",
       "</table>\n",
       "</div>"
      ],
      "text/plain": [
       "   zipcode   latitude  longitude   avg_agi  Cluster\n",
       "0  35004.0  33.601525 -86.489546  3.084004        2\n",
       "1  35005.0  33.604745 -87.042439  2.785734        1\n",
       "2  35006.0  33.429346 -87.202099  2.885881        1\n",
       "3  35007.0  33.228822 -86.791901  3.262145        4\n",
       "4  35010.0  32.944644 -85.910009  2.642072        1"
      ]
     },
     "execution_count": 7,
     "metadata": {},
     "output_type": "execute_result"
    }
   ],
   "source": [
    "data5.head()"
   ]
  },
  {
   "cell_type": "code",
   "execution_count": 10,
   "metadata": {
    "scrolled": true
   },
   "outputs": [
    {
     "data": {
      "text/plain": [
       "count    3114.000000\n",
       "mean       25.906827\n",
       "std        18.180689\n",
       "min         0.000000\n",
       "25%        10.700000\n",
       "50%        22.720000\n",
       "75%        38.310000\n",
       "max        87.730000\n",
       "Name: margin_winner_over_runnerup, dtype: float64"
      ]
     },
     "execution_count": 10,
     "metadata": {},
     "output_type": "execute_result"
    }
   ],
   "source": [
    "data4.margin_winner_over_runnerup.describe()"
   ]
  },
  {
   "cell_type": "code",
   "execution_count": 11,
   "metadata": {},
   "outputs": [
    {
     "data": {
      "text/html": [
       "<div>\n",
       "<style>\n",
       "    .dataframe thead tr:only-child th {\n",
       "        text-align: right;\n",
       "    }\n",
       "\n",
       "    .dataframe thead th {\n",
       "        text-align: left;\n",
       "    }\n",
       "\n",
       "    .dataframe tbody tr th {\n",
       "        vertical-align: top;\n",
       "    }\n",
       "</style>\n",
       "<table border=\"1\" class=\"dataframe\">\n",
       "  <thead>\n",
       "    <tr style=\"text-align: right;\">\n",
       "      <th></th>\n",
       "      <th>zipcode</th>\n",
       "      <th>Place Name</th>\n",
       "      <th>state</th>\n",
       "      <th>State Abbreviation</th>\n",
       "      <th>County</th>\n",
       "      <th>Latitude</th>\n",
       "      <th>Longitude</th>\n",
       "    </tr>\n",
       "  </thead>\n",
       "  <tbody>\n",
       "    <tr>\n",
       "      <th>0</th>\n",
       "      <td>501</td>\n",
       "      <td>Holtsville</td>\n",
       "      <td>New York</td>\n",
       "      <td>NY</td>\n",
       "      <td>Suffolk</td>\n",
       "      <td>40.8154</td>\n",
       "      <td>-73.0451</td>\n",
       "    </tr>\n",
       "    <tr>\n",
       "      <th>1</th>\n",
       "      <td>544</td>\n",
       "      <td>Holtsville</td>\n",
       "      <td>New York</td>\n",
       "      <td>NY</td>\n",
       "      <td>Suffolk</td>\n",
       "      <td>40.8154</td>\n",
       "      <td>-73.0451</td>\n",
       "    </tr>\n",
       "    <tr>\n",
       "      <th>2</th>\n",
       "      <td>1001</td>\n",
       "      <td>Agawam</td>\n",
       "      <td>Massachusetts</td>\n",
       "      <td>MA</td>\n",
       "      <td>Hampden</td>\n",
       "      <td>42.0702</td>\n",
       "      <td>-72.6227</td>\n",
       "    </tr>\n",
       "    <tr>\n",
       "      <th>3</th>\n",
       "      <td>1002</td>\n",
       "      <td>Amherst</td>\n",
       "      <td>Massachusetts</td>\n",
       "      <td>MA</td>\n",
       "      <td>Hampshire</td>\n",
       "      <td>42.3671</td>\n",
       "      <td>-72.4646</td>\n",
       "    </tr>\n",
       "    <tr>\n",
       "      <th>4</th>\n",
       "      <td>1003</td>\n",
       "      <td>Amherst</td>\n",
       "      <td>Massachusetts</td>\n",
       "      <td>MA</td>\n",
       "      <td>Hampshire</td>\n",
       "      <td>42.3919</td>\n",
       "      <td>-72.5248</td>\n",
       "    </tr>\n",
       "  </tbody>\n",
       "</table>\n",
       "</div>"
      ],
      "text/plain": [
       "   zipcode  Place Name          state State Abbreviation     County  Latitude  \\\n",
       "0      501  Holtsville       New York                 NY    Suffolk   40.8154   \n",
       "1      544  Holtsville       New York                 NY    Suffolk   40.8154   \n",
       "2     1001      Agawam  Massachusetts                 MA    Hampden   42.0702   \n",
       "3     1002     Amherst  Massachusetts                 MA  Hampshire   42.3671   \n",
       "4     1003     Amherst  Massachusetts                 MA  Hampshire   42.3919   \n",
       "\n",
       "   Longitude  \n",
       "0   -73.0451  \n",
       "1   -73.0451  \n",
       "2   -72.6227  \n",
       "3   -72.4646  \n",
       "4   -72.5248  "
      ]
     },
     "execution_count": 11,
     "metadata": {},
     "output_type": "execute_result"
    }
   ],
   "source": [
    "data6 = data6.rename(columns={'Zip Code': 'zipcode'})\n",
    "data6 = data6.rename(columns={'State': 'state'})\n",
    "data6.head()"
   ]
  },
  {
   "cell_type": "code",
   "execution_count": 12,
   "metadata": {},
   "outputs": [
    {
     "data": {
      "text/html": [
       "<div>\n",
       "<style>\n",
       "    .dataframe thead tr:only-child th {\n",
       "        text-align: right;\n",
       "    }\n",
       "\n",
       "    .dataframe thead th {\n",
       "        text-align: left;\n",
       "    }\n",
       "\n",
       "    .dataframe tbody tr th {\n",
       "        vertical-align: top;\n",
       "    }\n",
       "</style>\n",
       "<table border=\"1\" class=\"dataframe\">\n",
       "  <thead>\n",
       "    <tr style=\"text-align: right;\">\n",
       "      <th></th>\n",
       "      <th>zipcode</th>\n",
       "      <th>latitude</th>\n",
       "      <th>longitude</th>\n",
       "      <th>avg_agi</th>\n",
       "      <th>Cluster</th>\n",
       "      <th>Place Name</th>\n",
       "      <th>state</th>\n",
       "      <th>State Abbreviation</th>\n",
       "      <th>County</th>\n",
       "      <th>Latitude</th>\n",
       "      <th>Longitude</th>\n",
       "    </tr>\n",
       "  </thead>\n",
       "  <tbody>\n",
       "    <tr>\n",
       "      <th>0</th>\n",
       "      <td>35004</td>\n",
       "      <td>33.601525</td>\n",
       "      <td>-86.489546</td>\n",
       "      <td>2.388274</td>\n",
       "      <td>0</td>\n",
       "      <td>Moody</td>\n",
       "      <td>Alabama</td>\n",
       "      <td>AL</td>\n",
       "      <td>St. Clair</td>\n",
       "      <td>33.6035</td>\n",
       "      <td>-86.4668</td>\n",
       "    </tr>\n",
       "    <tr>\n",
       "      <th>1</th>\n",
       "      <td>35005</td>\n",
       "      <td>33.604745</td>\n",
       "      <td>-87.042439</td>\n",
       "      <td>1.970332</td>\n",
       "      <td>2</td>\n",
       "      <td>Adamsville</td>\n",
       "      <td>Alabama</td>\n",
       "      <td>AL</td>\n",
       "      <td>Jefferson</td>\n",
       "      <td>33.5884</td>\n",
       "      <td>-86.9597</td>\n",
       "    </tr>\n",
       "    <tr>\n",
       "      <th>2</th>\n",
       "      <td>35006</td>\n",
       "      <td>33.429346</td>\n",
       "      <td>-87.202099</td>\n",
       "      <td>2.188307</td>\n",
       "      <td>3</td>\n",
       "      <td>Adger</td>\n",
       "      <td>Alabama</td>\n",
       "      <td>AL</td>\n",
       "      <td>Jefferson</td>\n",
       "      <td>33.4343</td>\n",
       "      <td>-87.1675</td>\n",
       "    </tr>\n",
       "    <tr>\n",
       "      <th>3</th>\n",
       "      <td>35007</td>\n",
       "      <td>33.228822</td>\n",
       "      <td>-86.791901</td>\n",
       "      <td>2.451653</td>\n",
       "      <td>0</td>\n",
       "      <td>Alabaster</td>\n",
       "      <td>Alabama</td>\n",
       "      <td>AL</td>\n",
       "      <td>Shelby</td>\n",
       "      <td>33.1934</td>\n",
       "      <td>-86.7944</td>\n",
       "    </tr>\n",
       "    <tr>\n",
       "      <th>4</th>\n",
       "      <td>35010</td>\n",
       "      <td>32.944644</td>\n",
       "      <td>-85.910009</td>\n",
       "      <td>1.850111</td>\n",
       "      <td>2</td>\n",
       "      <td>Alexander City</td>\n",
       "      <td>Alabama</td>\n",
       "      <td>AL</td>\n",
       "      <td>Tallapoosa</td>\n",
       "      <td>32.9164</td>\n",
       "      <td>-85.9368</td>\n",
       "    </tr>\n",
       "  </tbody>\n",
       "</table>\n",
       "</div>"
      ],
      "text/plain": [
       "  zipcode   latitude  longitude   avg_agi  Cluster      Place Name    state  \\\n",
       "0   35004  33.601525 -86.489546  2.388274        0           Moody  Alabama   \n",
       "1   35005  33.604745 -87.042439  1.970332        2      Adamsville  Alabama   \n",
       "2   35006  33.429346 -87.202099  2.188307        3           Adger  Alabama   \n",
       "3   35007  33.228822 -86.791901  2.451653        0       Alabaster  Alabama   \n",
       "4   35010  32.944644 -85.910009  1.850111        2  Alexander City  Alabama   \n",
       "\n",
       "  State Abbreviation      County  Latitude  Longitude  \n",
       "0                 AL   St. Clair   33.6035   -86.4668  \n",
       "1                 AL   Jefferson   33.5884   -86.9597  \n",
       "2                 AL   Jefferson   33.4343   -87.1675  \n",
       "3                 AL      Shelby   33.1934   -86.7944  \n",
       "4                 AL  Tallapoosa   32.9164   -85.9368  "
      ]
     },
     "execution_count": 12,
     "metadata": {},
     "output_type": "execute_result"
    }
   ],
   "source": [
    "left = data5\n",
    "right = data6 \n",
    "#result = left.join(right, on='zipcode')\n",
    "result = data5.merge(data6, on='zipcode', how='left')\n",
    "result.head()"
   ]
  },
  {
   "cell_type": "code",
   "execution_count": 13,
   "metadata": {},
   "outputs": [
    {
     "data": {
      "text/html": [
       "<div>\n",
       "<style>\n",
       "    .dataframe thead tr:only-child th {\n",
       "        text-align: right;\n",
       "    }\n",
       "\n",
       "    .dataframe thead th {\n",
       "        text-align: left;\n",
       "    }\n",
       "\n",
       "    .dataframe tbody tr th {\n",
       "        vertical-align: top;\n",
       "    }\n",
       "</style>\n",
       "<table border=\"1\" class=\"dataframe\">\n",
       "  <thead>\n",
       "    <tr style=\"text-align: right;\">\n",
       "      <th></th>\n",
       "      <th>zipcode</th>\n",
       "      <th>latitude</th>\n",
       "      <th>longitude</th>\n",
       "      <th>avg_agi</th>\n",
       "      <th>Cluster</th>\n",
       "      <th>Place Name</th>\n",
       "      <th>State Abbreviation</th>\n",
       "      <th>County</th>\n",
       "      <th>Latitude</th>\n",
       "      <th>Longitude</th>\n",
       "    </tr>\n",
       "    <tr>\n",
       "      <th>state</th>\n",
       "      <th></th>\n",
       "      <th></th>\n",
       "      <th></th>\n",
       "      <th></th>\n",
       "      <th></th>\n",
       "      <th></th>\n",
       "      <th></th>\n",
       "      <th></th>\n",
       "      <th></th>\n",
       "      <th></th>\n",
       "    </tr>\n",
       "  </thead>\n",
       "  <tbody>\n",
       "    <tr>\n",
       "      <th>Alabama</th>\n",
       "      <td>36863.0</td>\n",
       "      <td>34.563532</td>\n",
       "      <td>-86.761749</td>\n",
       "      <td>2.128571</td>\n",
       "      <td>2</td>\n",
       "      <td>Birmingham</td>\n",
       "      <td>AL</td>\n",
       "      <td>Jefferson</td>\n",
       "      <td>32.3053</td>\n",
       "      <td>-86.8346</td>\n",
       "    </tr>\n",
       "    <tr>\n",
       "      <th>Arizona</th>\n",
       "      <td>85501.0</td>\n",
       "      <td>33.466041</td>\n",
       "      <td>-111.022196</td>\n",
       "      <td>1.928504</td>\n",
       "      <td>2</td>\n",
       "      <td>Phoenix</td>\n",
       "      <td>AZ</td>\n",
       "      <td>Maricopa</td>\n",
       "      <td>33.4321</td>\n",
       "      <td>-112.0893</td>\n",
       "    </tr>\n",
       "    <tr>\n",
       "      <th>Arkansas</th>\n",
       "      <td>72703.0</td>\n",
       "      <td>33.187242</td>\n",
       "      <td>-94.212834</td>\n",
       "      <td>1.882353</td>\n",
       "      <td>2</td>\n",
       "      <td>Little Rock</td>\n",
       "      <td>AR</td>\n",
       "      <td>Pulaski</td>\n",
       "      <td>33.1213</td>\n",
       "      <td>-93.2897</td>\n",
       "    </tr>\n",
       "    <tr>\n",
       "      <th>California</th>\n",
       "      <td>92056.0</td>\n",
       "      <td>34.063145</td>\n",
       "      <td>-118.352039</td>\n",
       "      <td>2.000000</td>\n",
       "      <td>0</td>\n",
       "      <td>Los Angeles</td>\n",
       "      <td>CA</td>\n",
       "      <td>Los Angeles</td>\n",
       "      <td>34.1510</td>\n",
       "      <td>-122.2804</td>\n",
       "    </tr>\n",
       "    <tr>\n",
       "      <th>Colorado</th>\n",
       "      <td>81122.0</td>\n",
       "      <td>40.439822</td>\n",
       "      <td>-102.163272</td>\n",
       "      <td>1.490654</td>\n",
       "      <td>3</td>\n",
       "      <td>Denver</td>\n",
       "      <td>CO</td>\n",
       "      <td>El Paso</td>\n",
       "      <td>39.1032</td>\n",
       "      <td>-105.0109</td>\n",
       "    </tr>\n",
       "  </tbody>\n",
       "</table>\n",
       "</div>"
      ],
      "text/plain": [
       "            zipcode   latitude   longitude   avg_agi  Cluster   Place Name  \\\n",
       "state                                                                        \n",
       "Alabama     36863.0  34.563532  -86.761749  2.128571        2   Birmingham   \n",
       "Arizona     85501.0  33.466041 -111.022196  1.928504        2      Phoenix   \n",
       "Arkansas    72703.0  33.187242  -94.212834  1.882353        2  Little Rock   \n",
       "California  92056.0  34.063145 -118.352039  2.000000        0  Los Angeles   \n",
       "Colorado    81122.0  40.439822 -102.163272  1.490654        3       Denver   \n",
       "\n",
       "           State Abbreviation       County  Latitude  Longitude  \n",
       "state                                                            \n",
       "Alabama                    AL    Jefferson   32.3053   -86.8346  \n",
       "Arizona                    AZ     Maricopa   33.4321  -112.0893  \n",
       "Arkansas                   AR      Pulaski   33.1213   -93.2897  \n",
       "California                 CA  Los Angeles   34.1510  -122.2804  \n",
       "Colorado                   CO      El Paso   39.1032  -105.0109  "
      ]
     },
     "execution_count": 13,
     "metadata": {},
     "output_type": "execute_result"
    }
   ],
   "source": [
    "clusterState = pd.DataFrame(result.groupby('state').agg(lambda x:x.value_counts().index[0]))\n",
    "clusterState.head() "
   ]
  },
  {
   "cell_type": "code",
   "execution_count": null,
   "metadata": {
    "collapsed": true
   },
   "outputs": [],
   "source": []
  },
  {
   "cell_type": "code",
   "execution_count": 14,
   "metadata": {
    "scrolled": true
   },
   "outputs": [
    {
     "ename": "NameError",
     "evalue": "name 'marginData' is not defined",
     "output_type": "error",
     "traceback": [
      "\u001b[0;31m---------------------------------------------------------------------------\u001b[0m",
      "\u001b[0;31mNameError\u001b[0m                                 Traceback (most recent call last)",
      "\u001b[0;32m<ipython-input-14-b9701d97ba93>\u001b[0m in \u001b[0;36m<module>\u001b[0;34m()\u001b[0m\n\u001b[1;32m     14\u001b[0m \u001b[0mlabels\u001b[0m \u001b[0;34m=\u001b[0m \u001b[0;34m[\u001b[0m\u001b[0;34m\"low\"\u001b[0m\u001b[0;34m,\u001b[0m\u001b[0;34m\"medium\"\u001b[0m\u001b[0;34m,\u001b[0m\u001b[0;34m\"high\"\u001b[0m\u001b[0;34m]\u001b[0m\u001b[0;34m\u001b[0m\u001b[0m\n\u001b[1;32m     15\u001b[0m \u001b[0mdata4\u001b[0m\u001b[0;34m[\u001b[0m\u001b[0;34m\"Homogeny\"\u001b[0m\u001b[0;34m]\u001b[0m \u001b[0;34m=\u001b[0m \u001b[0mbinning\u001b[0m\u001b[0;34m(\u001b[0m\u001b[0mdata4\u001b[0m\u001b[0;34m[\u001b[0m\u001b[0;34m\"margin_winner_over_runnerup\"\u001b[0m\u001b[0;34m]\u001b[0m\u001b[0;34m,\u001b[0m \u001b[0mcut_points\u001b[0m\u001b[0;34m,\u001b[0m \u001b[0mlabels\u001b[0m \u001b[0;34m=\u001b[0m \u001b[0;34m[\u001b[0m\u001b[0;34m\"low\"\u001b[0m\u001b[0;34m,\u001b[0m\u001b[0;34m\"medium\"\u001b[0m\u001b[0;34m,\u001b[0m\u001b[0;34m\"high\"\u001b[0m\u001b[0;34m]\u001b[0m\u001b[0;34m)\u001b[0m\u001b[0;34m\u001b[0m\u001b[0m\n\u001b[0;32m---> 16\u001b[0;31m \u001b[0mpd\u001b[0m\u001b[0;34m.\u001b[0m\u001b[0mvalue_counts\u001b[0m\u001b[0;34m(\u001b[0m\u001b[0mmarginData\u001b[0m\u001b[0;34m[\u001b[0m\u001b[0;34m\"margin_winner_over_runnerup\"\u001b[0m\u001b[0;34m]\u001b[0m\u001b[0;34m,\u001b[0m \u001b[0msort\u001b[0m\u001b[0;34m=\u001b[0m\u001b[0;32mFalse\u001b[0m\u001b[0;34m)\u001b[0m\u001b[0;34m\u001b[0m\u001b[0m\n\u001b[0m\u001b[1;32m     17\u001b[0m \u001b[0mdata4\u001b[0m\u001b[0;34m.\u001b[0m\u001b[0mHomogeny\u001b[0m\u001b[0;34m.\u001b[0m\u001b[0mapply\u001b[0m\u001b[0;34m(\u001b[0m\u001b[0mstr\u001b[0m\u001b[0;34m)\u001b[0m\u001b[0;34m\u001b[0m\u001b[0m\n\u001b[1;32m     18\u001b[0m \u001b[0mdata4\u001b[0m\u001b[0;34m.\u001b[0m\u001b[0mhead\u001b[0m\u001b[0;34m(\u001b[0m\u001b[0;34m)\u001b[0m\u001b[0;34m\u001b[0m\u001b[0m\n",
      "\u001b[0;31mNameError\u001b[0m: name 'marginData' is not defined"
     ]
    }
   ],
   "source": [
    "def binning(col, cut_points, labels=None):\n",
    "  #Define min and max values:\n",
    "  minval = col.min()\n",
    "  maxval = col.max()\n",
    "\n",
    "  break_points = [minval] + cut_points + [maxval]\n",
    "\n",
    "  if not labels:\n",
    "    labels = range(len(cut_points)+1)\n",
    "  colBin = pd.cut(col,bins=break_points,labels=labels,include_lowest=True)\n",
    "  return colBin\n",
    "\n",
    "cut_points = [13,39]\n",
    "labels = [\"low\",\"medium\",\"high\"]\n",
    "data4[\"Homogeny\"] = binning(data4[\"margin_winner_over_runnerup\"], cut_points, labels = [\"low\",\"medium\",\"high\"])\n",
    "pd.value_counts(marginData[\"margin_winner_over_runnerup\"], sort=False)\n",
    "data4.Homogeny.apply(str)\n",
    "data4.head()"
   ]
  },
  {
   "cell_type": "code",
   "execution_count": 15,
   "metadata": {},
   "outputs": [
    {
     "data": {
      "text/html": [
       "<div>\n",
       "<style>\n",
       "    .dataframe thead tr:only-child th {\n",
       "        text-align: right;\n",
       "    }\n",
       "\n",
       "    .dataframe thead th {\n",
       "        text-align: left;\n",
       "    }\n",
       "\n",
       "    .dataframe tbody tr th {\n",
       "        vertical-align: top;\n",
       "    }\n",
       "</style>\n",
       "<table border=\"1\" class=\"dataframe\">\n",
       "  <thead>\n",
       "    <tr style=\"text-align: right;\">\n",
       "      <th></th>\n",
       "      <th>year</th>\n",
       "      <th>state</th>\n",
       "      <th>county</th>\n",
       "      <th>fips</th>\n",
       "      <th>vote_rep</th>\n",
       "      <th>vote_dem</th>\n",
       "      <th>vote_oth</th>\n",
       "      <th>vote_total</th>\n",
       "      <th>pct_rep</th>\n",
       "      <th>pct_dem</th>\n",
       "      <th>pct_oth</th>\n",
       "      <th>winner</th>\n",
       "      <th>runnerup</th>\n",
       "      <th>pct_winner</th>\n",
       "      <th>margin_winner_over_runnerup</th>\n",
       "      <th>Homogeny</th>\n",
       "      <th>polarity</th>\n",
       "    </tr>\n",
       "  </thead>\n",
       "  <tbody>\n",
       "    <tr>\n",
       "      <th>0</th>\n",
       "      <td>2008</td>\n",
       "      <td>AL</td>\n",
       "      <td>Autauga County</td>\n",
       "      <td>1001</td>\n",
       "      <td>17403</td>\n",
       "      <td>6093</td>\n",
       "      <td>145</td>\n",
       "      <td>23641</td>\n",
       "      <td>73.6</td>\n",
       "      <td>25.8</td>\n",
       "      <td>0.6</td>\n",
       "      <td>rep</td>\n",
       "      <td>dem</td>\n",
       "      <td>73.6</td>\n",
       "      <td>47.8</td>\n",
       "      <td>high</td>\n",
       "      <td>Very Republican</td>\n",
       "    </tr>\n",
       "    <tr>\n",
       "      <th>1</th>\n",
       "      <td>2008</td>\n",
       "      <td>AL</td>\n",
       "      <td>Baldwin County</td>\n",
       "      <td>1003</td>\n",
       "      <td>61271</td>\n",
       "      <td>19386</td>\n",
       "      <td>756</td>\n",
       "      <td>81413</td>\n",
       "      <td>75.3</td>\n",
       "      <td>23.8</td>\n",
       "      <td>0.9</td>\n",
       "      <td>rep</td>\n",
       "      <td>dem</td>\n",
       "      <td>75.3</td>\n",
       "      <td>51.5</td>\n",
       "      <td>high</td>\n",
       "      <td>Very Republican</td>\n",
       "    </tr>\n",
       "    <tr>\n",
       "      <th>2</th>\n",
       "      <td>2008</td>\n",
       "      <td>AL</td>\n",
       "      <td>Barbour County</td>\n",
       "      <td>1005</td>\n",
       "      <td>5866</td>\n",
       "      <td>5697</td>\n",
       "      <td>67</td>\n",
       "      <td>11630</td>\n",
       "      <td>50.4</td>\n",
       "      <td>49.0</td>\n",
       "      <td>0.6</td>\n",
       "      <td>rep</td>\n",
       "      <td>dem</td>\n",
       "      <td>50.4</td>\n",
       "      <td>1.4</td>\n",
       "      <td>low</td>\n",
       "      <td>Slighty Republican</td>\n",
       "    </tr>\n",
       "    <tr>\n",
       "      <th>3</th>\n",
       "      <td>2008</td>\n",
       "      <td>AL</td>\n",
       "      <td>Bibb County</td>\n",
       "      <td>1007</td>\n",
       "      <td>6262</td>\n",
       "      <td>2299</td>\n",
       "      <td>83</td>\n",
       "      <td>8644</td>\n",
       "      <td>72.4</td>\n",
       "      <td>26.6</td>\n",
       "      <td>1.0</td>\n",
       "      <td>rep</td>\n",
       "      <td>dem</td>\n",
       "      <td>72.4</td>\n",
       "      <td>45.8</td>\n",
       "      <td>high</td>\n",
       "      <td>Very Republican</td>\n",
       "    </tr>\n",
       "    <tr>\n",
       "      <th>4</th>\n",
       "      <td>2008</td>\n",
       "      <td>AL</td>\n",
       "      <td>Blount County</td>\n",
       "      <td>1009</td>\n",
       "      <td>20389</td>\n",
       "      <td>3522</td>\n",
       "      <td>356</td>\n",
       "      <td>24267</td>\n",
       "      <td>84.0</td>\n",
       "      <td>14.5</td>\n",
       "      <td>1.5</td>\n",
       "      <td>rep</td>\n",
       "      <td>dem</td>\n",
       "      <td>84.0</td>\n",
       "      <td>69.5</td>\n",
       "      <td>high</td>\n",
       "      <td>Very Republican</td>\n",
       "    </tr>\n",
       "  </tbody>\n",
       "</table>\n",
       "</div>"
      ],
      "text/plain": [
       "   year state          county  fips  vote_rep  vote_dem  vote_oth  vote_total  \\\n",
       "0  2008    AL  Autauga County  1001     17403      6093       145       23641   \n",
       "1  2008    AL  Baldwin County  1003     61271     19386       756       81413   \n",
       "2  2008    AL  Barbour County  1005      5866      5697        67       11630   \n",
       "3  2008    AL     Bibb County  1007      6262      2299        83        8644   \n",
       "4  2008    AL   Blount County  1009     20389      3522       356       24267   \n",
       "\n",
       "   pct_rep  pct_dem  pct_oth winner runnerup  pct_winner  \\\n",
       "0     73.6     25.8      0.6    rep      dem        73.6   \n",
       "1     75.3     23.8      0.9    rep      dem        75.3   \n",
       "2     50.4     49.0      0.6    rep      dem        50.4   \n",
       "3     72.4     26.6      1.0    rep      dem        72.4   \n",
       "4     84.0     14.5      1.5    rep      dem        84.0   \n",
       "\n",
       "   margin_winner_over_runnerup Homogeny            polarity  \n",
       "0                         47.8     high     Very Republican  \n",
       "1                         51.5     high     Very Republican  \n",
       "2                          1.4      low  Slighty Republican  \n",
       "3                         45.8     high     Very Republican  \n",
       "4                         69.5     high     Very Republican  "
      ]
     },
     "execution_count": 15,
     "metadata": {},
     "output_type": "execute_result"
    }
   ],
   "source": [
    "polarity = []\n",
    "\n",
    "\n",
    "# For each row in the column,\n",
    "for index, row in data4.iterrows():\n",
    "    if (row.Homogeny == \"high\") & (row.winner == \"rep\"):\n",
    "        polarity.append('Very Republican')\n",
    "    elif (row.Homogeny  == \"medium\") & (row.winner  == \"rep\"):\n",
    "        polarity.append('Moderately Republican')\n",
    "    elif (row.Homogeny  == \"low\") & (row.winner  == \"rep\"):\n",
    "        polarity.append('Slighty Republican')\n",
    "    elif (row.Homogeny  ==\"high\") & (row.winner  == \"dem\"):\n",
    "        polarity.append('Very Democrat')\n",
    "    # else, if more than a value,\n",
    "    elif (row.Homogeny  == \"medium\")&(row.winner  == \"dem\"):\n",
    "        polarity.append('Moderately Democrat')\n",
    "    # else, if more than a value,\n",
    "    elif (row.Homogeny  == \"low\") &  (row.winner  == \"dem\"):\n",
    "        # Append a letter grade\n",
    "        polarity.append('Slightly Democrat')\n",
    "        \n",
    "# Create a column from the list\n",
    "data4['polarity'] = polarity \n",
    "data4.head()\n"
   ]
  },
  {
   "cell_type": "code",
   "execution_count": null,
   "metadata": {
    "collapsed": true
   },
   "outputs": [],
   "source": []
  },
  {
   "cell_type": "code",
   "execution_count": 16,
   "metadata": {
    "scrolled": true
   },
   "outputs": [
    {
     "data": {
      "text/plain": [
       "count    3114.000000\n",
       "mean       53.577087\n",
       "std       180.733827\n",
       "min     -9999.000000\n",
       "25%        47.722500\n",
       "50%        57.200000\n",
       "75%        66.897500\n",
       "max        92.640000\n",
       "Name: pct_rep, dtype: float64"
      ]
     },
     "execution_count": 16,
     "metadata": {},
     "output_type": "execute_result"
    }
   ],
   "source": [
    "data4.pct_rep.describe()"
   ]
  },
  {
   "cell_type": "code",
   "execution_count": 19,
   "metadata": {},
   "outputs": [
    {
     "data": {
      "text/html": [
       "<div>\n",
       "<style>\n",
       "    .dataframe thead tr:only-child th {\n",
       "        text-align: right;\n",
       "    }\n",
       "\n",
       "    .dataframe thead th {\n",
       "        text-align: left;\n",
       "    }\n",
       "\n",
       "    .dataframe tbody tr th {\n",
       "        vertical-align: top;\n",
       "    }\n",
       "</style>\n",
       "<table border=\"1\" class=\"dataframe\">\n",
       "  <thead>\n",
       "    <tr style=\"text-align: right;\">\n",
       "      <th></th>\n",
       "      <th>margin_winner_over_runnerup</th>\n",
       "    </tr>\n",
       "    <tr>\n",
       "      <th>state</th>\n",
       "      <th></th>\n",
       "    </tr>\n",
       "  </thead>\n",
       "  <tbody>\n",
       "    <tr>\n",
       "      <th>AL</th>\n",
       "      <td>36.537313</td>\n",
       "    </tr>\n",
       "    <tr>\n",
       "      <th>AR</th>\n",
       "      <td>27.302667</td>\n",
       "    </tr>\n",
       "    <tr>\n",
       "      <th>AZ</th>\n",
       "      <td>21.793333</td>\n",
       "    </tr>\n",
       "    <tr>\n",
       "      <th>CA</th>\n",
       "      <td>22.048276</td>\n",
       "    </tr>\n",
       "    <tr>\n",
       "      <th>CO</th>\n",
       "      <td>26.701562</td>\n",
       "    </tr>\n",
       "  </tbody>\n",
       "</table>\n",
       "</div>"
      ],
      "text/plain": [
       "       margin_winner_over_runnerup\n",
       "state                             \n",
       "AL                       36.537313\n",
       "AR                       27.302667\n",
       "AZ                       21.793333\n",
       "CA                       22.048276\n",
       "CO                       26.701562"
      ]
     },
     "execution_count": 19,
     "metadata": {},
     "output_type": "execute_result"
    }
   ],
   "source": [
    "marginData = pd.DataFrame(data4.groupby('state')['margin_winner_over_runnerup'].mean())\n",
    "marginData.head()\n"
   ]
  },
  {
   "cell_type": "code",
   "execution_count": 81,
   "metadata": {},
   "outputs": [
    {
     "data": {
      "text/html": [
       "<div>\n",
       "<style>\n",
       "    .dataframe thead tr:only-child th {\n",
       "        text-align: right;\n",
       "    }\n",
       "\n",
       "    .dataframe thead th {\n",
       "        text-align: left;\n",
       "    }\n",
       "\n",
       "    .dataframe tbody tr th {\n",
       "        vertical-align: top;\n",
       "    }\n",
       "</style>\n",
       "<table border=\"1\" class=\"dataframe\">\n",
       "  <thead>\n",
       "    <tr style=\"text-align: right;\">\n",
       "      <th></th>\n",
       "      <th>margin_winner_over_runnerup</th>\n",
       "    </tr>\n",
       "  </thead>\n",
       "  <tbody>\n",
       "    <tr>\n",
       "      <th>count</th>\n",
       "      <td>49.000000</td>\n",
       "    </tr>\n",
       "    <tr>\n",
       "      <th>mean</th>\n",
       "      <td>26.725158</td>\n",
       "    </tr>\n",
       "    <tr>\n",
       "      <th>std</th>\n",
       "      <td>13.718742</td>\n",
       "    </tr>\n",
       "    <tr>\n",
       "      <th>min</th>\n",
       "      <td>7.706250</td>\n",
       "    </tr>\n",
       "    <tr>\n",
       "      <th>25%</th>\n",
       "      <td>18.451961</td>\n",
       "    </tr>\n",
       "    <tr>\n",
       "      <th>50%</th>\n",
       "      <td>24.046875</td>\n",
       "    </tr>\n",
       "    <tr>\n",
       "      <th>75%</th>\n",
       "      <td>31.474214</td>\n",
       "    </tr>\n",
       "    <tr>\n",
       "      <th>max</th>\n",
       "      <td>79.900000</td>\n",
       "    </tr>\n",
       "  </tbody>\n",
       "</table>\n",
       "</div>"
      ],
      "text/plain": [
       "       margin_winner_over_runnerup\n",
       "count                    49.000000\n",
       "mean                     26.725158\n",
       "std                      13.718742\n",
       "min                       7.706250\n",
       "25%                      18.451961\n",
       "50%                      24.046875\n",
       "75%                      31.474214\n",
       "max                      79.900000"
      ]
     },
     "execution_count": 81,
     "metadata": {},
     "output_type": "execute_result"
    }
   ],
   "source": [
    "marginData.describe()"
   ]
  },
  {
   "cell_type": "code",
   "execution_count": 20,
   "metadata": {},
   "outputs": [
    {
     "data": {
      "text/html": [
       "<div>\n",
       "<style>\n",
       "    .dataframe thead tr:only-child th {\n",
       "        text-align: right;\n",
       "    }\n",
       "\n",
       "    .dataframe thead th {\n",
       "        text-align: left;\n",
       "    }\n",
       "\n",
       "    .dataframe tbody tr th {\n",
       "        vertical-align: top;\n",
       "    }\n",
       "</style>\n",
       "<table border=\"1\" class=\"dataframe\">\n",
       "  <thead>\n",
       "    <tr style=\"text-align: right;\">\n",
       "      <th></th>\n",
       "      <th>margin_winner_over_runnerup</th>\n",
       "      <th>Margins Bin</th>\n",
       "    </tr>\n",
       "    <tr>\n",
       "      <th>state</th>\n",
       "      <th></th>\n",
       "      <th></th>\n",
       "    </tr>\n",
       "  </thead>\n",
       "  <tbody>\n",
       "    <tr>\n",
       "      <th>AL</th>\n",
       "      <td>36.537313</td>\n",
       "      <td>medium</td>\n",
       "    </tr>\n",
       "    <tr>\n",
       "      <th>AR</th>\n",
       "      <td>27.302667</td>\n",
       "      <td>medium</td>\n",
       "    </tr>\n",
       "    <tr>\n",
       "      <th>AZ</th>\n",
       "      <td>21.793333</td>\n",
       "      <td>medium</td>\n",
       "    </tr>\n",
       "    <tr>\n",
       "      <th>CA</th>\n",
       "      <td>22.048276</td>\n",
       "      <td>medium</td>\n",
       "    </tr>\n",
       "    <tr>\n",
       "      <th>CO</th>\n",
       "      <td>26.701562</td>\n",
       "      <td>medium</td>\n",
       "    </tr>\n",
       "  </tbody>\n",
       "</table>\n",
       "</div>"
      ],
      "text/plain": [
       "       margin_winner_over_runnerup Margins Bin\n",
       "state                                         \n",
       "AL                       36.537313      medium\n",
       "AR                       27.302667      medium\n",
       "AZ                       21.793333      medium\n",
       "CA                       22.048276      medium\n",
       "CO                       26.701562      medium"
      ]
     },
     "execution_count": 20,
     "metadata": {},
     "output_type": "execute_result"
    }
   ],
   "source": [
    "def binning(col, cut_points, labels=None):\n",
    "  #Define min and max values:\n",
    "  minval = col.min()\n",
    "  maxval = col.max()\n",
    "\n",
    "  break_points = [minval] + cut_points + [maxval]\n",
    "\n",
    "  if not labels:\n",
    "    labels = range(len(cut_points)+1)\n",
    "  colBin = pd.cut(col,bins=break_points,labels=labels,include_lowest=True)\n",
    "  return colBin\n",
    "\n",
    "cut_points = [13,39]\n",
    "labels = [\"low\",\"medium\",\"high\"]\n",
    "marginData[\"Margins Bin\"] = binning(marginData[\"margin_winner_over_runnerup\"], cut_points, labels = [\"low\",\"medium\",\"high\"])\n",
    "pd.value_counts(marginData[\"margin_winner_over_runnerup\"], sort=False)\n",
    "marginData.head()\n",
    "\n"
   ]
  },
  {
   "cell_type": "code",
   "execution_count": null,
   "metadata": {
    "collapsed": true
   },
   "outputs": [],
   "source": [
    "\n",
    "    "
   ]
  },
  {
   "cell_type": "code",
   "execution_count": 21,
   "metadata": {},
   "outputs": [
    {
     "data": {
      "text/html": [
       "<div>\n",
       "<style>\n",
       "    .dataframe thead tr:only-child th {\n",
       "        text-align: right;\n",
       "    }\n",
       "\n",
       "    .dataframe thead th {\n",
       "        text-align: left;\n",
       "    }\n",
       "\n",
       "    .dataframe tbody tr th {\n",
       "        vertical-align: top;\n",
       "    }\n",
       "</style>\n",
       "<table border=\"1\" class=\"dataframe\">\n",
       "  <thead>\n",
       "    <tr style=\"text-align: right;\">\n",
       "      <th></th>\n",
       "      <th>zipcode</th>\n",
       "      <th>latitude</th>\n",
       "      <th>longitude</th>\n",
       "      <th>avg_agi</th>\n",
       "      <th>Cluster</th>\n",
       "      <th>Place Name</th>\n",
       "      <th>state</th>\n",
       "      <th>State Abbreviation</th>\n",
       "      <th>County</th>\n",
       "      <th>Latitude</th>\n",
       "      <th>Longitude</th>\n",
       "      <th>margin_winner_over_runnerup</th>\n",
       "      <th>Margins Bin</th>\n",
       "    </tr>\n",
       "  </thead>\n",
       "  <tbody>\n",
       "    <tr>\n",
       "      <th>0</th>\n",
       "      <td>35004</td>\n",
       "      <td>33.601525</td>\n",
       "      <td>-86.489546</td>\n",
       "      <td>2.388274</td>\n",
       "      <td>0</td>\n",
       "      <td>Moody</td>\n",
       "      <td>Alabama</td>\n",
       "      <td>AL</td>\n",
       "      <td>St. Clair</td>\n",
       "      <td>33.6035</td>\n",
       "      <td>-86.4668</td>\n",
       "      <td>36.537313</td>\n",
       "      <td>medium</td>\n",
       "    </tr>\n",
       "    <tr>\n",
       "      <th>1</th>\n",
       "      <td>35005</td>\n",
       "      <td>33.604745</td>\n",
       "      <td>-87.042439</td>\n",
       "      <td>1.970332</td>\n",
       "      <td>2</td>\n",
       "      <td>Adamsville</td>\n",
       "      <td>Alabama</td>\n",
       "      <td>AL</td>\n",
       "      <td>Jefferson</td>\n",
       "      <td>33.5884</td>\n",
       "      <td>-86.9597</td>\n",
       "      <td>36.537313</td>\n",
       "      <td>medium</td>\n",
       "    </tr>\n",
       "    <tr>\n",
       "      <th>2</th>\n",
       "      <td>35006</td>\n",
       "      <td>33.429346</td>\n",
       "      <td>-87.202099</td>\n",
       "      <td>2.188307</td>\n",
       "      <td>3</td>\n",
       "      <td>Adger</td>\n",
       "      <td>Alabama</td>\n",
       "      <td>AL</td>\n",
       "      <td>Jefferson</td>\n",
       "      <td>33.4343</td>\n",
       "      <td>-87.1675</td>\n",
       "      <td>36.537313</td>\n",
       "      <td>medium</td>\n",
       "    </tr>\n",
       "    <tr>\n",
       "      <th>3</th>\n",
       "      <td>35007</td>\n",
       "      <td>33.228822</td>\n",
       "      <td>-86.791901</td>\n",
       "      <td>2.451653</td>\n",
       "      <td>0</td>\n",
       "      <td>Alabaster</td>\n",
       "      <td>Alabama</td>\n",
       "      <td>AL</td>\n",
       "      <td>Shelby</td>\n",
       "      <td>33.1934</td>\n",
       "      <td>-86.7944</td>\n",
       "      <td>36.537313</td>\n",
       "      <td>medium</td>\n",
       "    </tr>\n",
       "    <tr>\n",
       "      <th>4</th>\n",
       "      <td>35010</td>\n",
       "      <td>32.944644</td>\n",
       "      <td>-85.910009</td>\n",
       "      <td>1.850111</td>\n",
       "      <td>2</td>\n",
       "      <td>Alexander City</td>\n",
       "      <td>Alabama</td>\n",
       "      <td>AL</td>\n",
       "      <td>Tallapoosa</td>\n",
       "      <td>32.9164</td>\n",
       "      <td>-85.9368</td>\n",
       "      <td>36.537313</td>\n",
       "      <td>medium</td>\n",
       "    </tr>\n",
       "  </tbody>\n",
       "</table>\n",
       "</div>"
      ],
      "text/plain": [
       "  zipcode   latitude  longitude   avg_agi  Cluster      Place Name    state  \\\n",
       "0   35004  33.601525 -86.489546  2.388274        0           Moody  Alabama   \n",
       "1   35005  33.604745 -87.042439  1.970332        2      Adamsville  Alabama   \n",
       "2   35006  33.429346 -87.202099  2.188307        3           Adger  Alabama   \n",
       "3   35007  33.228822 -86.791901  2.451653        0       Alabaster  Alabama   \n",
       "4   35010  32.944644 -85.910009  1.850111        2  Alexander City  Alabama   \n",
       "\n",
       "  State Abbreviation      County  Latitude  Longitude  \\\n",
       "0                 AL   St. Clair   33.6035   -86.4668   \n",
       "1                 AL   Jefferson   33.5884   -86.9597   \n",
       "2                 AL   Jefferson   33.4343   -87.1675   \n",
       "3                 AL      Shelby   33.1934   -86.7944   \n",
       "4                 AL  Tallapoosa   32.9164   -85.9368   \n",
       "\n",
       "   margin_winner_over_runnerup Margins Bin  \n",
       "0                    36.537313      medium  \n",
       "1                    36.537313      medium  \n",
       "2                    36.537313      medium  \n",
       "3                    36.537313      medium  \n",
       "4                    36.537313      medium  "
      ]
     },
     "execution_count": 21,
     "metadata": {},
     "output_type": "execute_result"
    }
   ],
   "source": [
    "left = result\n",
    "right = marginData \n",
    "resultF = left.join(right, on='State Abbreviation')\n",
    "resultF.head()"
   ]
  },
  {
   "cell_type": "raw",
   "metadata": {
    "collapsed": true
   },
   "source": [
    "resultF = result.merge(marginData, on='State Abbreviation', how='left')\n",
    "resultF.head()"
   ]
  },
  {
   "cell_type": "code",
   "execution_count": 22,
   "metadata": {},
   "outputs": [
    {
     "data": {
      "text/plain": [
       "<matplotlib.axes._subplots.AxesSubplot at 0x7fd70ddd5d68>"
      ]
     },
     "execution_count": 22,
     "metadata": {},
     "output_type": "execute_result"
    },
    {
     "data": {
      "image/png": "[encoded data removed]",
      "text/plain": [
       "<matplotlib.figure.Figure at 0x7fd70dc72278>"
      ]
     },
     "metadata": {},
     "output_type": "display_data"
    }
   ],
   "source": [
    "resultF.plot.scatter(\"avg_agi\", \"margin_winner_over_runnerup\", s=.4, c = \"magenta\")\n"
   ]
  },
  {
   "cell_type": "code",
   "execution_count": 23,
   "metadata": {},
   "outputs": [
    {
     "data": {
      "text/plain": [
       "<matplotlib.axes._subplots.AxesSubplot at 0x7fd70df16a20>"
      ]
     },
     "execution_count": 23,
     "metadata": {},
     "output_type": "execute_result"
    },
    {
     "data": {
      "image/png": "[encoded data removed]",
      "text/plain": [
       "<matplotlib.figure.Figure at 0x7fd70dc72470>"
      ]
     },
     "metadata": {},
     "output_type": "display_data"
    }
   ],
   "source": [
    "resultF.plot.bar(x= \"Cluster\", y =\"margin_winner_over_runnerup\")\n"
   ]
  },
  {
   "cell_type": "code",
   "execution_count": null,
   "metadata": {
    "collapsed": true
   },
   "outputs": [],
   "source": [
    "resultF.plot.bar(x= \"state\", y =\"margin_winner_over_runnerup\", title = \"Average Margin of Winning Candidate over the Runnerup in the 2008 Election\",linewidth=4.0,figsize=(15, 10), width = .7, colormap = \"Accent\")\n",
    "\n"
   ]
  },
  {
   "cell_type": "code",
   "execution_count": null,
   "metadata": {
    "collapsed": true
   },
   "outputs": [],
   "source": [
    "resultF.plot.scatter(x = \"avg_agi\", y = \"margin_winner_over_runnerup\", c = \"magenta\")\n",
    "\n"
   ]
  },
  {
   "cell_type": "code",
   "execution_count": 64,
   "metadata": {
    "collapsed": true
   },
   "outputs": [],
   "source": []
  },
  {
   "cell_type": "code",
   "execution_count": null,
   "metadata": {
    "collapsed": true
   },
   "outputs": [],
   "source": [
    "\n"
   ]
  },
  {
   "cell_type": "code",
   "execution_count": null,
   "metadata": {
    "collapsed": true
   },
   "outputs": [],
   "source": []
  },
  {
   "cell_type": "code",
   "execution_count": null,
   "metadata": {
    "collapsed": true
   },
   "outputs": [],
   "source": []
  },
  {
   "cell_type": "code",
   "execution_count": null,
   "metadata": {
    "collapsed": true
   },
   "outputs": [],
   "source": []
  },
  {
   "cell_type": "code",
   "execution_count": 50,
   "metadata": {
    "collapsed": true
   },
   "outputs": [],
   "source": []
  },
  {
   "cell_type": "code",
   "execution_count": null,
   "metadata": {
    "collapsed": true
   },
   "outputs": [],
   "source": []
  },
  {
   "cell_type": "code",
   "execution_count": null,
   "metadata": {
    "collapsed": true
   },
   "outputs": [],
   "source": []
  },
  {
   "cell_type": "code",
   "execution_count": null,
   "metadata": {
    "collapsed": true
   },
   "outputs": [],
   "source": []
  },
  {
   "cell_type": "code",
   "execution_count": null,
   "metadata": {
    "collapsed": true
   },
   "outputs": [],
   "source": []
  },
  {
   "cell_type": "code",
   "execution_count": null,
   "metadata": {
    "collapsed": true
   },
   "outputs": [],
   "source": []
  },
  {
   "cell_type": "code",
   "execution_count": null,
   "metadata": {
    "collapsed": true
   },
   "outputs": [],
   "source": []
  },
  {
   "cell_type": "code",
   "execution_count": null,
   "metadata": {
    "collapsed": true
   },
   "outputs": [],
   "source": []
  },
  {
   "cell_type": "code",
   "execution_count": null,
   "metadata": {
    "collapsed": true
   },
   "outputs": [],
   "source": []
  },
  {
   "cell_type": "code",
   "execution_count": null,
   "metadata": {
    "collapsed": true
   },
   "outputs": [],
   "source": []
  },
  {
   "cell_type": "code",
   "execution_count": null,
   "metadata": {
    "collapsed": true
   },
   "outputs": [],
   "source": []
  },
  {
   "cell_type": "code",
   "execution_count": null,
   "metadata": {
    "collapsed": true
   },
   "outputs": [],
   "source": []
  },
  {
   "cell_type": "code",
   "execution_count": null,
   "metadata": {
    "collapsed": true
   },
   "outputs": [],
   "source": []
  },
  {
   "cell_type": "code",
   "execution_count": null,
   "metadata": {
    "collapsed": true
   },
   "outputs": [],
   "source": []
  },
  {
   "cell_type": "code",
   "execution_count": null,
   "metadata": {
    "collapsed": true
   },
   "outputs": [],
   "source": []
  },
  {
   "cell_type": "code",
   "execution_count": null,
   "metadata": {
    "collapsed": true
   },
   "outputs": [],
   "source": []
  },
  {
   "cell_type": "code",
   "execution_count": null,
   "metadata": {
    "collapsed": true
   },
   "outputs": [],
   "source": []
  },
  {
   "cell_type": "code",
   "execution_count": null,
   "metadata": {
    "collapsed": true
   },
   "outputs": [],
   "source": []
  },
  {
   "cell_type": "code",
   "execution_count": null,
   "metadata": {
    "collapsed": true
   },
   "outputs": [],
   "source": []
  },
  {
   "cell_type": "code",
   "execution_count": null,
   "metadata": {
    "collapsed": true
   },
   "outputs": [],
   "source": []
  },
  {
   "cell_type": "code",
   "execution_count": null,
   "metadata": {
    "collapsed": true
   },
   "outputs": [],
   "source": []
  },
  {
   "cell_type": "code",
   "execution_count": null,
   "metadata": {
    "collapsed": true
   },
   "outputs": [],
   "source": []
  },
  {
   "cell_type": "code",
   "execution_count": null,
   "metadata": {
    "collapsed": true
   },
   "outputs": [],
   "source": []
  },
  {
   "cell_type": "code",
   "execution_count": null,
   "metadata": {
    "collapsed": true
   },
   "outputs": [],
   "source": []
  },
  {
   "cell_type": "code",
   "execution_count": null,
   "metadata": {
    "collapsed": true
   },
   "outputs": [],
   "source": []
  },
  {
   "cell_type": "code",
   "execution_count": null,
   "metadata": {
    "collapsed": true
   },
   "outputs": [],
   "source": []
  },
  {
   "cell_type": "code",
   "execution_count": null,
   "metadata": {
    "collapsed": true
   },
   "outputs": [],
   "source": []
  },
  {
   "cell_type": "code",
   "execution_count": null,
   "metadata": {
    "collapsed": true
   },
   "outputs": [],
   "source": []
  },
  {
   "cell_type": "code",
   "execution_count": null,
   "metadata": {
    "collapsed": true
   },
   "outputs": [],
   "source": []
  },
  {
   "cell_type": "code",
   "execution_count": null,
   "metadata": {
    "collapsed": true
   },
   "outputs": [],
   "source": []
  },
  {
   "cell_type": "code",
   "execution_count": null,
   "metadata": {
    "collapsed": true
   },
   "outputs": [],
   "source": []
  },
  {
   "cell_type": "code",
   "execution_count": null,
   "metadata": {
    "collapsed": true
   },
   "outputs": [],
   "source": []
  },
  {
   "cell_type": "code",
   "execution_count": null,
   "metadata": {
    "collapsed": true
   },
   "outputs": [],
   "source": []
  },
  {
   "cell_type": "code",
   "execution_count": null,
   "metadata": {
    "collapsed": true
   },
   "outputs": [],
   "source": []
  },
  {
   "cell_type": "code",
   "execution_count": null,
   "metadata": {
    "collapsed": true
   },
   "outputs": [],
   "source": []
  },
  {
   "cell_type": "code",
   "execution_count": null,
   "metadata": {
    "collapsed": true
   },
   "outputs": [],
   "source": []
  },
  {
   "cell_type": "code",
   "execution_count": null,
   "metadata": {
    "collapsed": true
   },
   "outputs": [],
   "source": []
  },
  {
   "cell_type": "code",
   "execution_count": null,
   "metadata": {
    "collapsed": true
   },
   "outputs": [],
   "source": []
  },
  {
   "cell_type": "code",
   "execution_count": null,
   "metadata": {
    "collapsed": true
   },
   "outputs": [],
   "source": []
  },
  {
   "cell_type": "code",
   "execution_count": null,
   "metadata": {
    "collapsed": true
   },
   "outputs": [],
   "source": []
  },
  {
   "cell_type": "code",
   "execution_count": null,
   "metadata": {
    "collapsed": true
   },
   "outputs": [],
   "source": []
  },
  {
   "cell_type": "code",
   "execution_count": null,
   "metadata": {
    "collapsed": true
   },
   "outputs": [],
   "source": []
  },
  {
   "cell_type": "code",
   "execution_count": null,
   "metadata": {
    "collapsed": true
   },
   "outputs": [],
   "source": []
  },
  {
   "cell_type": "code",
   "execution_count": null,
   "metadata": {
    "collapsed": true
   },
   "outputs": [],
   "source": []
  },
  {
   "cell_type": "code",
   "execution_count": null,
   "metadata": {
    "collapsed": true
   },
   "outputs": [],
   "source": []
  },
  {
   "cell_type": "code",
   "execution_count": null,
   "metadata": {
    "collapsed": true
   },
   "outputs": [],
   "source": []
  }
 ],
 "metadata": {
  "kernelspec": {
   "display_name": "Python 3",
   "language": "python",
   "name": "python3"
  },
  "language_info": {
   "codemirror_mode": {
    "name": "ipython",
    "version": 3
   },
   "file_extension": ".py",
   "mimetype": "text/x-python",
   "name": "python",
   "nbconvert_exporter": "python",
   "pygments_lexer": "ipython3",
   "version": "3.6.3"
  }
 },
 "nbformat": 4,
 "nbformat_minor": 2
}
