{
 "cells": [
  {
   "cell_type": "code",
   "execution_count": 1,
   "metadata": {},
   "outputs": [
    {
     "name": "stdout",
     "output_type": "stream",
     "text": [
      "Populating the interactive namespace from numpy and matplotlib\n"
     ]
    }
   ],
   "source": [
    "%pylab inline\n",
    "import numpy as np\n",
    "import pandas as pd"
   ]
  },
  {
   "cell_type": "code",
   "execution_count": 2,
   "metadata": {
    "collapsed": true
   },
   "outputs": [],
   "source": [
    "df05 = pd.read_csv(\"FIX2005zip.csv\")\n",
    "df06 = pd.read_csv(\"FIX2006zip.csv\") #1-7  AGI_FUCKED\n",
    "df07 = pd.read_csv(\"FIX2007zip.csv\") #1-7  AGI_FUCKED\n",
    "df08 = pd.read_csv(\"FIX2008zip.csv\") #1-7  AGI_FUCKED\n",
    "df09 = pd.read_csv(\"FIX2009zip.csv\") \n",
    "df10 = pd.read_csv(\"FIX2010zip.csv\")\n",
    "df11 = pd.read_csv(\"FIX2011zip.csv\")\n",
    "df12 = pd.read_csv(\"FIX2012zip.csv\") # AGI_FUCKED\n",
    "df13 = pd.read_csv(\"FIX2013zip.csv\")\n",
    "df14 = pd.read_csv(\"FIX2014zip.csv\")\n",
    "df15 = pd.read_csv(\"FIX2015zip.csv\")\n",
    "\n",
    "\n",
    "#df.head(20)"
   ]
  },
  {
   "cell_type": "code",
   "execution_count": 25,
   "metadata": {},
   "outputs": [
    {
     "data": {
      "text/plain": [
       "0        306\n",
       "52531      6\n",
       "95492      6\n",
       "97541      6\n",
       "68875      6\n",
       "75022      6\n",
       "77071      6\n",
       "99610      6\n",
       "23841      6\n",
       "7465       6\n",
       "13612      6\n",
       "15661      6\n",
       "50482      6\n",
       "48445      6\n",
       "80909      6\n",
       "83330      6\n",
       "85379      6\n",
       "95620      6\n",
       "79244      6\n",
       "75150      6\n",
       "30116      6\n",
       "28071      6\n",
       "1450       6\n",
       "13740      6\n",
       "52659      6\n",
       "38328      6\n",
       "85251      6\n",
       "83202      6\n",
       "44223      6\n",
       "48317      6\n",
       "        ... \n",
       "70774      6\n",
       "72823      6\n",
       "50124      6\n",
       "62410      6\n",
       "90744      6\n",
       "37830      6\n",
       "43713      6\n",
       "33476      6\n",
       "49868      6\n",
       "15059      6\n",
       "25304      6\n",
       "21214      6\n",
       "78578      6\n",
       "68341      6\n",
       "70390      6\n",
       "97019      6\n",
       "45890      6\n",
       "33604      6\n",
       "35653      6\n",
       "39751      6\n",
       "52045      6\n",
       "56143      6\n",
       "4950       6\n",
       "29530      6\n",
       "17244      6\n",
       "76657      6\n",
       "70518      6\n",
       "72567      6\n",
       "48067      6\n",
       "88340      6\n",
       "Name: zipcode, Length: 27787, dtype: int64"
      ]
     },
     "execution_count": 25,
     "metadata": {},
     "output_type": "execute_result"
    }
   ],
   "source": [
    "#df12.loc[df12['zipcode'].value_counts() != 6]\n",
    "df10.zipcode.value_counts()"
   ]
  },
  {
   "cell_type": "code",
   "execution_count": null,
   "metadata": {
    "collapsed": true
   },
   "outputs": [],
   "source": []
  }
 ],
 "metadata": {
  "kernelspec": {
   "display_name": "Python 3",
   "language": "python",
   "name": "python3"
  },
  "language_info": {
   "codemirror_mode": {
    "name": "ipython",
    "version": 3
   },
   "file_extension": ".py",
   "mimetype": "text/x-python",
   "name": "python",
   "nbconvert_exporter": "python",
   "pygments_lexer": "ipython3",
   "version": "3.6.3"
  }
 },
 "nbformat": 4,
 "nbformat_minor": 2
}
