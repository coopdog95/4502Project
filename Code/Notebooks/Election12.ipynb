{
 "cells": [
  {
   "cell_type": "code",
   "execution_count": 2,
   "metadata": {},
   "outputs": [
    {
     "name": "stdout",
     "output_type": "stream",
     "text": [
      "Populating the interactive namespace from numpy and matplotlib\n"
     ]
    }
   ],
   "source": [
    "get_ipython().magic('pylab inline')"
   ]
  },
  {
   "cell_type": "code",
   "execution_count": 314,
   "metadata": {
    "collapsed": true
   },
   "outputs": [],
   "source": [
    "import sys\n",
    "import csv\n",
    "import math\n",
    "import folium\n",
    "import json\n",
    "import pandas as pd\n",
    "import numpy as np\n",
    "import matplotlib.pyplot as plt\n",
    "import geojson\n",
    "from scipy import stats\n",
    "\n",
    "%matplotlib inline\n",
    "data4 = pd.read_csv(\"/home/elena/Documents/DataMining/Data/ElectionData/file_part_02.csv\")\n",
    "data5 = pd.read_csv(\"/home/elena/Documents/DataMining/Data/CleanedCSVs/2012Cluster.csv\")\n",
    "data6 = pd.read_csv(\"/home/elena/Downloads/us_postal_codes.csv\")\n",
    "\n"
   ]
  },
  {
   "cell_type": "code",
   "execution_count": 1,
   "metadata": {
    "scrolled": false
   },
   "outputs": [
    {
     "ename": "NameError",
     "evalue": "name 'data4' is not defined",
     "output_type": "error",
     "traceback": [
      "\u001b[0;31m---------------------------------------------------------------------------\u001b[0m",
      "\u001b[0;31mNameError\u001b[0m                                 Traceback (most recent call last)",
      "\u001b[0;32m<ipython-input-1-1037e2c67605>\u001b[0m in \u001b[0;36m<module>\u001b[0;34m()\u001b[0m\n\u001b[1;32m      1\u001b[0m \u001b[0;34m\u001b[0m\u001b[0m\n\u001b[0;32m----> 2\u001b[0;31m \u001b[0mdata4\u001b[0m\u001b[0;34m.\u001b[0m\u001b[0mhead\u001b[0m\u001b[0;34m(\u001b[0m\u001b[0;36m6\u001b[0m\u001b[0;34m)\u001b[0m\u001b[0;34m\u001b[0m\u001b[0m\n\u001b[0m\u001b[1;32m      3\u001b[0m \u001b[0;34m\u001b[0m\u001b[0m\n",
      "\u001b[0;31mNameError\u001b[0m: name 'data4' is not defined"
     ]
    }
   ],
   "source": [
    "\n",
    "data4.head(6)\n",
    "\n"
   ]
  },
  {
   "cell_type": "code",
   "execution_count": 307,
   "metadata": {},
   "outputs": [
    {
     "data": {
      "text/html": [
       "<div>\n",
       "<style>\n",
       "    .dataframe thead tr:only-child th {\n",
       "        text-align: right;\n",
       "    }\n",
       "\n",
       "    .dataframe thead th {\n",
       "        text-align: left;\n",
       "    }\n",
       "\n",
       "    .dataframe tbody tr th {\n",
       "        vertical-align: top;\n",
       "    }\n",
       "</style>\n",
       "<table border=\"1\" class=\"dataframe\">\n",
       "  <thead>\n",
       "    <tr style=\"text-align: right;\">\n",
       "      <th></th>\n",
       "      <th>zipcode</th>\n",
       "      <th>latitude</th>\n",
       "      <th>longitude</th>\n",
       "      <th>avg_agi</th>\n",
       "      <th>Cluster</th>\n",
       "    </tr>\n",
       "  </thead>\n",
       "  <tbody>\n",
       "    <tr>\n",
       "      <th>0</th>\n",
       "      <td>35004.0</td>\n",
       "      <td>33.601525</td>\n",
       "      <td>-86.489546</td>\n",
       "      <td>3.084004</td>\n",
       "      <td>2</td>\n",
       "    </tr>\n",
       "    <tr>\n",
       "      <th>1</th>\n",
       "      <td>35005.0</td>\n",
       "      <td>33.604745</td>\n",
       "      <td>-87.042439</td>\n",
       "      <td>2.785734</td>\n",
       "      <td>1</td>\n",
       "    </tr>\n",
       "    <tr>\n",
       "      <th>2</th>\n",
       "      <td>35006.0</td>\n",
       "      <td>33.429346</td>\n",
       "      <td>-87.202099</td>\n",
       "      <td>2.885881</td>\n",
       "      <td>1</td>\n",
       "    </tr>\n",
       "    <tr>\n",
       "      <th>3</th>\n",
       "      <td>35007.0</td>\n",
       "      <td>33.228822</td>\n",
       "      <td>-86.791901</td>\n",
       "      <td>3.262145</td>\n",
       "      <td>4</td>\n",
       "    </tr>\n",
       "    <tr>\n",
       "      <th>4</th>\n",
       "      <td>35010.0</td>\n",
       "      <td>32.944644</td>\n",
       "      <td>-85.910009</td>\n",
       "      <td>2.642072</td>\n",
       "      <td>1</td>\n",
       "    </tr>\n",
       "  </tbody>\n",
       "</table>\n",
       "</div>"
      ],
      "text/plain": [
       "   zipcode   latitude  longitude   avg_agi  Cluster\n",
       "0  35004.0  33.601525 -86.489546  3.084004        2\n",
       "1  35005.0  33.604745 -87.042439  2.785734        1\n",
       "2  35006.0  33.429346 -87.202099  2.885881        1\n",
       "3  35007.0  33.228822 -86.791901  3.262145        4\n",
       "4  35010.0  32.944644 -85.910009  2.642072        1"
      ]
     },
     "execution_count": 307,
     "metadata": {},
     "output_type": "execute_result"
    }
   ],
   "source": [
    "data5.head()"
   ]
  },
  {
   "cell_type": "code",
   "execution_count": 20,
   "metadata": {
    "scrolled": true
   },
   "outputs": [
    {
     "data": {
      "text/plain": [
       "count    3109.000000\n",
       "mean       27.443680\n",
       "std        18.383494\n",
       "min         0.000000\n",
       "25%        12.100000\n",
       "50%        24.900000\n",
       "75%        40.300000\n",
       "max        84.800000\n",
       "Name: margin_winner_over_runnerup, dtype: float64"
      ]
     },
     "execution_count": 20,
     "metadata": {},
     "output_type": "execute_result"
    }
   ],
   "source": [
    "data4.margin_winner_over_runnerup.describe()"
   ]
  },
  {
   "cell_type": "code",
   "execution_count": 319,
   "metadata": {},
   "outputs": [
    {
     "data": {
      "text/html": [
       "<div>\n",
       "<style>\n",
       "    .dataframe thead tr:only-child th {\n",
       "        text-align: right;\n",
       "    }\n",
       "\n",
       "    .dataframe thead th {\n",
       "        text-align: left;\n",
       "    }\n",
       "\n",
       "    .dataframe tbody tr th {\n",
       "        vertical-align: top;\n",
       "    }\n",
       "</style>\n",
       "<table border=\"1\" class=\"dataframe\">\n",
       "  <thead>\n",
       "    <tr style=\"text-align: right;\">\n",
       "      <th></th>\n",
       "      <th>zipcode</th>\n",
       "      <th>Place Name</th>\n",
       "      <th>state</th>\n",
       "      <th>State Abbreviation</th>\n",
       "      <th>County</th>\n",
       "      <th>Latitude</th>\n",
       "      <th>Longitude</th>\n",
       "    </tr>\n",
       "  </thead>\n",
       "  <tbody>\n",
       "    <tr>\n",
       "      <th>0</th>\n",
       "      <td>501</td>\n",
       "      <td>Holtsville</td>\n",
       "      <td>New York</td>\n",
       "      <td>NY</td>\n",
       "      <td>Suffolk</td>\n",
       "      <td>40.8154</td>\n",
       "      <td>-73.0451</td>\n",
       "    </tr>\n",
       "    <tr>\n",
       "      <th>1</th>\n",
       "      <td>544</td>\n",
       "      <td>Holtsville</td>\n",
       "      <td>New York</td>\n",
       "      <td>NY</td>\n",
       "      <td>Suffolk</td>\n",
       "      <td>40.8154</td>\n",
       "      <td>-73.0451</td>\n",
       "    </tr>\n",
       "    <tr>\n",
       "      <th>2</th>\n",
       "      <td>1001</td>\n",
       "      <td>Agawam</td>\n",
       "      <td>Massachusetts</td>\n",
       "      <td>MA</td>\n",
       "      <td>Hampden</td>\n",
       "      <td>42.0702</td>\n",
       "      <td>-72.6227</td>\n",
       "    </tr>\n",
       "    <tr>\n",
       "      <th>3</th>\n",
       "      <td>1002</td>\n",
       "      <td>Amherst</td>\n",
       "      <td>Massachusetts</td>\n",
       "      <td>MA</td>\n",
       "      <td>Hampshire</td>\n",
       "      <td>42.3671</td>\n",
       "      <td>-72.4646</td>\n",
       "    </tr>\n",
       "    <tr>\n",
       "      <th>4</th>\n",
       "      <td>1003</td>\n",
       "      <td>Amherst</td>\n",
       "      <td>Massachusetts</td>\n",
       "      <td>MA</td>\n",
       "      <td>Hampshire</td>\n",
       "      <td>42.3919</td>\n",
       "      <td>-72.5248</td>\n",
       "    </tr>\n",
       "  </tbody>\n",
       "</table>\n",
       "</div>"
      ],
      "text/plain": [
       "   zipcode  Place Name          state State Abbreviation     County  Latitude  \\\n",
       "0      501  Holtsville       New York                 NY    Suffolk   40.8154   \n",
       "1      544  Holtsville       New York                 NY    Suffolk   40.8154   \n",
       "2     1001      Agawam  Massachusetts                 MA    Hampden   42.0702   \n",
       "3     1002     Amherst  Massachusetts                 MA  Hampshire   42.3671   \n",
       "4     1003     Amherst  Massachusetts                 MA  Hampshire   42.3919   \n",
       "\n",
       "   Longitude  \n",
       "0   -73.0451  \n",
       "1   -73.0451  \n",
       "2   -72.6227  \n",
       "3   -72.4646  \n",
       "4   -72.5248  "
      ]
     },
     "execution_count": 319,
     "metadata": {},
     "output_type": "execute_result"
    }
   ],
   "source": [
    "data6 = data6.rename(columns={'Zip Code': 'zipcode'})\n",
    "data6 = data6.rename(columns={'State': 'state'})\n",
    "data6.head()"
   ]
  },
  {
   "cell_type": "code",
   "execution_count": 324,
   "metadata": {},
   "outputs": [
    {
     "data": {
      "text/html": [
       "<div>\n",
       "<style>\n",
       "    .dataframe thead tr:only-child th {\n",
       "        text-align: right;\n",
       "    }\n",
       "\n",
       "    .dataframe thead th {\n",
       "        text-align: left;\n",
       "    }\n",
       "\n",
       "    .dataframe tbody tr th {\n",
       "        vertical-align: top;\n",
       "    }\n",
       "</style>\n",
       "<table border=\"1\" class=\"dataframe\">\n",
       "  <thead>\n",
       "    <tr style=\"text-align: right;\">\n",
       "      <th></th>\n",
       "      <th>zipcode</th>\n",
       "      <th>latitude</th>\n",
       "      <th>longitude</th>\n",
       "      <th>avg_agi</th>\n",
       "      <th>Cluster</th>\n",
       "      <th>Place Name</th>\n",
       "      <th>state</th>\n",
       "      <th>State Abbreviation</th>\n",
       "      <th>County</th>\n",
       "      <th>Latitude</th>\n",
       "      <th>Longitude</th>\n",
       "    </tr>\n",
       "  </thead>\n",
       "  <tbody>\n",
       "    <tr>\n",
       "      <th>0</th>\n",
       "      <td>35004</td>\n",
       "      <td>33.601525</td>\n",
       "      <td>-86.489546</td>\n",
       "      <td>3.084004</td>\n",
       "      <td>2</td>\n",
       "      <td>Moody</td>\n",
       "      <td>Alabama</td>\n",
       "      <td>AL</td>\n",
       "      <td>St. Clair</td>\n",
       "      <td>33.6035</td>\n",
       "      <td>-86.4668</td>\n",
       "    </tr>\n",
       "    <tr>\n",
       "      <th>1</th>\n",
       "      <td>35005</td>\n",
       "      <td>33.604745</td>\n",
       "      <td>-87.042439</td>\n",
       "      <td>2.785734</td>\n",
       "      <td>1</td>\n",
       "      <td>Adamsville</td>\n",
       "      <td>Alabama</td>\n",
       "      <td>AL</td>\n",
       "      <td>Jefferson</td>\n",
       "      <td>33.5884</td>\n",
       "      <td>-86.9597</td>\n",
       "    </tr>\n",
       "    <tr>\n",
       "      <th>2</th>\n",
       "      <td>35006</td>\n",
       "      <td>33.429346</td>\n",
       "      <td>-87.202099</td>\n",
       "      <td>2.885881</td>\n",
       "      <td>1</td>\n",
       "      <td>Adger</td>\n",
       "      <td>Alabama</td>\n",
       "      <td>AL</td>\n",
       "      <td>Jefferson</td>\n",
       "      <td>33.4343</td>\n",
       "      <td>-87.1675</td>\n",
       "    </tr>\n",
       "    <tr>\n",
       "      <th>3</th>\n",
       "      <td>35007</td>\n",
       "      <td>33.228822</td>\n",
       "      <td>-86.791901</td>\n",
       "      <td>3.262145</td>\n",
       "      <td>4</td>\n",
       "      <td>Alabaster</td>\n",
       "      <td>Alabama</td>\n",
       "      <td>AL</td>\n",
       "      <td>Shelby</td>\n",
       "      <td>33.1934</td>\n",
       "      <td>-86.7944</td>\n",
       "    </tr>\n",
       "    <tr>\n",
       "      <th>4</th>\n",
       "      <td>35010</td>\n",
       "      <td>32.944644</td>\n",
       "      <td>-85.910009</td>\n",
       "      <td>2.642072</td>\n",
       "      <td>1</td>\n",
       "      <td>Alexander City</td>\n",
       "      <td>Alabama</td>\n",
       "      <td>AL</td>\n",
       "      <td>Tallapoosa</td>\n",
       "      <td>32.9164</td>\n",
       "      <td>-85.9368</td>\n",
       "    </tr>\n",
       "  </tbody>\n",
       "</table>\n",
       "</div>"
      ],
      "text/plain": [
       "  zipcode   latitude  longitude   avg_agi  Cluster      Place Name    state  \\\n",
       "0   35004  33.601525 -86.489546  3.084004        2           Moody  Alabama   \n",
       "1   35005  33.604745 -87.042439  2.785734        1      Adamsville  Alabama   \n",
       "2   35006  33.429346 -87.202099  2.885881        1           Adger  Alabama   \n",
       "3   35007  33.228822 -86.791901  3.262145        4       Alabaster  Alabama   \n",
       "4   35010  32.944644 -85.910009  2.642072        1  Alexander City  Alabama   \n",
       "\n",
       "  State Abbreviation      County  Latitude  Longitude  \n",
       "0                 AL   St. Clair   33.6035   -86.4668  \n",
       "1                 AL   Jefferson   33.5884   -86.9597  \n",
       "2                 AL   Jefferson   33.4343   -87.1675  \n",
       "3                 AL      Shelby   33.1934   -86.7944  \n",
       "4                 AL  Tallapoosa   32.9164   -85.9368  "
      ]
     },
     "execution_count": 324,
     "metadata": {},
     "output_type": "execute_result"
    }
   ],
   "source": [
    "left = data5\n",
    "right = data6 \n",
    "#result = left.join(right, on='zipcode')\n",
    "result = data5.merge(data6, on='zipcode', how='left')\n",
    "result.head()"
   ]
  },
  {
   "cell_type": "code",
   "execution_count": 326,
   "metadata": {},
   "outputs": [
    {
     "data": {
      "text/html": [
       "<div>\n",
       "<style>\n",
       "    .dataframe thead tr:only-child th {\n",
       "        text-align: right;\n",
       "    }\n",
       "\n",
       "    .dataframe thead th {\n",
       "        text-align: left;\n",
       "    }\n",
       "\n",
       "    .dataframe tbody tr th {\n",
       "        vertical-align: top;\n",
       "    }\n",
       "</style>\n",
       "<table border=\"1\" class=\"dataframe\">\n",
       "  <thead>\n",
       "    <tr style=\"text-align: right;\">\n",
       "      <th></th>\n",
       "      <th>zipcode</th>\n",
       "      <th>latitude</th>\n",
       "      <th>longitude</th>\n",
       "      <th>avg_agi</th>\n",
       "      <th>Cluster</th>\n",
       "      <th>Place Name</th>\n",
       "      <th>State Abbreviation</th>\n",
       "      <th>County</th>\n",
       "      <th>Latitude</th>\n",
       "      <th>Longitude</th>\n",
       "    </tr>\n",
       "    <tr>\n",
       "      <th>state</th>\n",
       "      <th></th>\n",
       "      <th></th>\n",
       "      <th></th>\n",
       "      <th></th>\n",
       "      <th></th>\n",
       "      <th></th>\n",
       "      <th></th>\n",
       "      <th></th>\n",
       "      <th></th>\n",
       "      <th></th>\n",
       "    </tr>\n",
       "  </thead>\n",
       "  <tbody>\n",
       "    <tr>\n",
       "      <th>Alabama</th>\n",
       "      <td>36863.0</td>\n",
       "      <td>34.563532</td>\n",
       "      <td>-86.761749</td>\n",
       "      <td>2.813596</td>\n",
       "      <td>1</td>\n",
       "      <td>Birmingham</td>\n",
       "      <td>AL</td>\n",
       "      <td>Jefferson</td>\n",
       "      <td>32.3053</td>\n",
       "      <td>-86.2743</td>\n",
       "    </tr>\n",
       "    <tr>\n",
       "      <th>Arizona</th>\n",
       "      <td>85501.0</td>\n",
       "      <td>33.466041</td>\n",
       "      <td>-111.022196</td>\n",
       "      <td>2.884352</td>\n",
       "      <td>1</td>\n",
       "      <td>Phoenix</td>\n",
       "      <td>AZ</td>\n",
       "      <td>Maricopa</td>\n",
       "      <td>33.3992</td>\n",
       "      <td>-112.0893</td>\n",
       "    </tr>\n",
       "    <tr>\n",
       "      <th>Arkansas</th>\n",
       "      <td>71749.0</td>\n",
       "      <td>36.220000</td>\n",
       "      <td>-94.212834</td>\n",
       "      <td>2.500000</td>\n",
       "      <td>3</td>\n",
       "      <td>Little Rock</td>\n",
       "      <td>AR</td>\n",
       "      <td>Pulaski</td>\n",
       "      <td>33.0163</td>\n",
       "      <td>-93.2897</td>\n",
       "    </tr>\n",
       "    <tr>\n",
       "      <th>California</th>\n",
       "      <td>92056.0</td>\n",
       "      <td>34.063145</td>\n",
       "      <td>-118.352039</td>\n",
       "      <td>3.000000</td>\n",
       "      <td>2</td>\n",
       "      <td>Los Angeles</td>\n",
       "      <td>CA</td>\n",
       "      <td>Los Angeles</td>\n",
       "      <td>34.1510</td>\n",
       "      <td>-118.4490</td>\n",
       "    </tr>\n",
       "    <tr>\n",
       "      <th>Colorado</th>\n",
       "      <td>80012.0</td>\n",
       "      <td>40.252021</td>\n",
       "      <td>-107.716250</td>\n",
       "      <td>3.000000</td>\n",
       "      <td>2</td>\n",
       "      <td>Denver</td>\n",
       "      <td>CO</td>\n",
       "      <td>El Paso</td>\n",
       "      <td>39.1032</td>\n",
       "      <td>-105.1009</td>\n",
       "    </tr>\n",
       "  </tbody>\n",
       "</table>\n",
       "</div>"
      ],
      "text/plain": [
       "            zipcode   latitude   longitude   avg_agi  Cluster   Place Name  \\\n",
       "state                                                                        \n",
       "Alabama     36863.0  34.563532  -86.761749  2.813596        1   Birmingham   \n",
       "Arizona     85501.0  33.466041 -111.022196  2.884352        1      Phoenix   \n",
       "Arkansas    71749.0  36.220000  -94.212834  2.500000        3  Little Rock   \n",
       "California  92056.0  34.063145 -118.352039  3.000000        2  Los Angeles   \n",
       "Colorado    80012.0  40.252021 -107.716250  3.000000        2       Denver   \n",
       "\n",
       "           State Abbreviation       County  Latitude  Longitude  \n",
       "state                                                            \n",
       "Alabama                    AL    Jefferson   32.3053   -86.2743  \n",
       "Arizona                    AZ     Maricopa   33.3992  -112.0893  \n",
       "Arkansas                   AR      Pulaski   33.0163   -93.2897  \n",
       "California                 CA  Los Angeles   34.1510  -118.4490  \n",
       "Colorado                   CO      El Paso   39.1032  -105.1009  "
      ]
     },
     "execution_count": 326,
     "metadata": {},
     "output_type": "execute_result"
    }
   ],
   "source": [
    "clusterState = pd.DataFrame(result.groupby('state').agg(lambda x:x.value_counts().index[0]))\n",
    "clusterState.head() "
   ]
  },
  {
   "cell_type": "code",
   "execution_count": null,
   "metadata": {
    "collapsed": true
   },
   "outputs": [],
   "source": []
  },
  {
   "cell_type": "code",
   "execution_count": 336,
   "metadata": {
    "scrolled": true
   },
   "outputs": [
    {
     "data": {
      "text/html": [
       "<div>\n",
       "<style>\n",
       "    .dataframe thead tr:only-child th {\n",
       "        text-align: right;\n",
       "    }\n",
       "\n",
       "    .dataframe thead th {\n",
       "        text-align: left;\n",
       "    }\n",
       "\n",
       "    .dataframe tbody tr th {\n",
       "        vertical-align: top;\n",
       "    }\n",
       "</style>\n",
       "<table border=\"1\" class=\"dataframe\">\n",
       "  <thead>\n",
       "    <tr style=\"text-align: right;\">\n",
       "      <th></th>\n",
       "      <th>year</th>\n",
       "      <th>State Abbreviation</th>\n",
       "      <th>county</th>\n",
       "      <th>fips</th>\n",
       "      <th>vote_rep</th>\n",
       "      <th>vote_dem</th>\n",
       "      <th>vote_oth</th>\n",
       "      <th>vote_total</th>\n",
       "      <th>pct_rep</th>\n",
       "      <th>pct_dem</th>\n",
       "      <th>pct_oth</th>\n",
       "      <th>winner</th>\n",
       "      <th>runnerup</th>\n",
       "      <th>pct_winner</th>\n",
       "      <th>margin_winner_over_runnerup</th>\n",
       "      <th>Homogeny</th>\n",
       "    </tr>\n",
       "  </thead>\n",
       "  <tbody>\n",
       "    <tr>\n",
       "      <th>0</th>\n",
       "      <td>2004</td>\n",
       "      <td>AL</td>\n",
       "      <td>Autauga County</td>\n",
       "      <td>1001</td>\n",
       "      <td>15196</td>\n",
       "      <td>4758</td>\n",
       "      <td>127</td>\n",
       "      <td>20081</td>\n",
       "      <td>75.7</td>\n",
       "      <td>23.7</td>\n",
       "      <td>0.6</td>\n",
       "      <td>rep</td>\n",
       "      <td>dem</td>\n",
       "      <td>75.7</td>\n",
       "      <td>52.0</td>\n",
       "      <td>high</td>\n",
       "    </tr>\n",
       "    <tr>\n",
       "      <th>1</th>\n",
       "      <td>2004</td>\n",
       "      <td>AL</td>\n",
       "      <td>Baldwin County</td>\n",
       "      <td>1003</td>\n",
       "      <td>52971</td>\n",
       "      <td>15599</td>\n",
       "      <td>750</td>\n",
       "      <td>69320</td>\n",
       "      <td>76.4</td>\n",
       "      <td>22.5</td>\n",
       "      <td>1.1</td>\n",
       "      <td>rep</td>\n",
       "      <td>dem</td>\n",
       "      <td>76.4</td>\n",
       "      <td>53.9</td>\n",
       "      <td>high</td>\n",
       "    </tr>\n",
       "    <tr>\n",
       "      <th>2</th>\n",
       "      <td>2004</td>\n",
       "      <td>AL</td>\n",
       "      <td>Barbour County</td>\n",
       "      <td>1005</td>\n",
       "      <td>5899</td>\n",
       "      <td>4832</td>\n",
       "      <td>46</td>\n",
       "      <td>10777</td>\n",
       "      <td>54.7</td>\n",
       "      <td>44.8</td>\n",
       "      <td>0.4</td>\n",
       "      <td>rep</td>\n",
       "      <td>dem</td>\n",
       "      <td>54.7</td>\n",
       "      <td>9.9</td>\n",
       "      <td>low</td>\n",
       "    </tr>\n",
       "    <tr>\n",
       "      <th>3</th>\n",
       "      <td>2004</td>\n",
       "      <td>AL</td>\n",
       "      <td>Bibb County</td>\n",
       "      <td>1007</td>\n",
       "      <td>5472</td>\n",
       "      <td>2089</td>\n",
       "      <td>39</td>\n",
       "      <td>7600</td>\n",
       "      <td>72.0</td>\n",
       "      <td>27.5</td>\n",
       "      <td>0.5</td>\n",
       "      <td>rep</td>\n",
       "      <td>dem</td>\n",
       "      <td>72.0</td>\n",
       "      <td>44.5</td>\n",
       "      <td>high</td>\n",
       "    </tr>\n",
       "    <tr>\n",
       "      <th>4</th>\n",
       "      <td>2004</td>\n",
       "      <td>AL</td>\n",
       "      <td>Blount County</td>\n",
       "      <td>1009</td>\n",
       "      <td>17386</td>\n",
       "      <td>3938</td>\n",
       "      <td>180</td>\n",
       "      <td>21504</td>\n",
       "      <td>80.9</td>\n",
       "      <td>18.3</td>\n",
       "      <td>0.8</td>\n",
       "      <td>rep</td>\n",
       "      <td>dem</td>\n",
       "      <td>80.9</td>\n",
       "      <td>62.6</td>\n",
       "      <td>high</td>\n",
       "    </tr>\n",
       "  </tbody>\n",
       "</table>\n",
       "</div>"
      ],
      "text/plain": [
       "   year State Abbreviation          county  fips  vote_rep  vote_dem  \\\n",
       "0  2004                 AL  Autauga County  1001     15196      4758   \n",
       "1  2004                 AL  Baldwin County  1003     52971     15599   \n",
       "2  2004                 AL  Barbour County  1005      5899      4832   \n",
       "3  2004                 AL     Bibb County  1007      5472      2089   \n",
       "4  2004                 AL   Blount County  1009     17386      3938   \n",
       "\n",
       "   vote_oth  vote_total  pct_rep  pct_dem  pct_oth winner runnerup  \\\n",
       "0       127       20081     75.7     23.7      0.6    rep      dem   \n",
       "1       750       69320     76.4     22.5      1.1    rep      dem   \n",
       "2        46       10777     54.7     44.8      0.4    rep      dem   \n",
       "3        39        7600     72.0     27.5      0.5    rep      dem   \n",
       "4       180       21504     80.9     18.3      0.8    rep      dem   \n",
       "\n",
       "   pct_winner  margin_winner_over_runnerup Homogeny  \n",
       "0        75.7                         52.0     high  \n",
       "1        76.4                         53.9     high  \n",
       "2        54.7                          9.9      low  \n",
       "3        72.0                         44.5     high  \n",
       "4        80.9                         62.6     high  "
      ]
     },
     "execution_count": 336,
     "metadata": {},
     "output_type": "execute_result"
    }
   ],
   "source": [
    "def binning(col, cut_points, labels=None):\n",
    "  #Define min and max values:\n",
    "  minval = col.min()\n",
    "  maxval = col.max()\n",
    "\n",
    "  break_points = [minval] + cut_points + [maxval]\n",
    "\n",
    "  if not labels:\n",
    "    labels = range(len(cut_points)+1)\n",
    "  colBin = pd.cut(col,bins=break_points,labels=labels,include_lowest=True)\n",
    "  return colBin\n",
    "\n",
    "cut_points = [13,39]\n",
    "labels = [\"low\",\"medium\",\"high\"]\n",
    "data4[\"Homogeny\"] = binning(data4[\"margin_winner_over_runnerup\"], cut_points, labels = [\"low\",\"medium\",\"high\"])\n",
    "pd.value_counts(marginData[\"margin_winner_over_runnerup\"], sort=False)\n",
    "data4.Homogeny.apply(str)\n",
    "data4.head()"
   ]
  },
  {
   "cell_type": "code",
   "execution_count": 341,
   "metadata": {},
   "outputs": [
    {
     "data": {
      "text/html": [
       "<div>\n",
       "<style>\n",
       "    .dataframe thead tr:only-child th {\n",
       "        text-align: right;\n",
       "    }\n",
       "\n",
       "    .dataframe thead th {\n",
       "        text-align: left;\n",
       "    }\n",
       "\n",
       "    .dataframe tbody tr th {\n",
       "        vertical-align: top;\n",
       "    }\n",
       "</style>\n",
       "<table border=\"1\" class=\"dataframe\">\n",
       "  <thead>\n",
       "    <tr style=\"text-align: right;\">\n",
       "      <th></th>\n",
       "      <th>year</th>\n",
       "      <th>State Abbreviation</th>\n",
       "      <th>county</th>\n",
       "      <th>fips</th>\n",
       "      <th>vote_rep</th>\n",
       "      <th>vote_dem</th>\n",
       "      <th>vote_oth</th>\n",
       "      <th>vote_total</th>\n",
       "      <th>pct_rep</th>\n",
       "      <th>pct_dem</th>\n",
       "      <th>pct_oth</th>\n",
       "      <th>winner</th>\n",
       "      <th>runnerup</th>\n",
       "      <th>pct_winner</th>\n",
       "      <th>margin_winner_over_runnerup</th>\n",
       "      <th>Homogeny</th>\n",
       "      <th>polarity</th>\n",
       "    </tr>\n",
       "  </thead>\n",
       "  <tbody>\n",
       "    <tr>\n",
       "      <th>0</th>\n",
       "      <td>2004</td>\n",
       "      <td>AL</td>\n",
       "      <td>Autauga County</td>\n",
       "      <td>1001</td>\n",
       "      <td>15196</td>\n",
       "      <td>4758</td>\n",
       "      <td>127</td>\n",
       "      <td>20081</td>\n",
       "      <td>75.7</td>\n",
       "      <td>23.7</td>\n",
       "      <td>0.6</td>\n",
       "      <td>rep</td>\n",
       "      <td>dem</td>\n",
       "      <td>75.7</td>\n",
       "      <td>52.0</td>\n",
       "      <td>high</td>\n",
       "      <td>Very Republican</td>\n",
       "    </tr>\n",
       "    <tr>\n",
       "      <th>1</th>\n",
       "      <td>2004</td>\n",
       "      <td>AL</td>\n",
       "      <td>Baldwin County</td>\n",
       "      <td>1003</td>\n",
       "      <td>52971</td>\n",
       "      <td>15599</td>\n",
       "      <td>750</td>\n",
       "      <td>69320</td>\n",
       "      <td>76.4</td>\n",
       "      <td>22.5</td>\n",
       "      <td>1.1</td>\n",
       "      <td>rep</td>\n",
       "      <td>dem</td>\n",
       "      <td>76.4</td>\n",
       "      <td>53.9</td>\n",
       "      <td>high</td>\n",
       "      <td>Very Republican</td>\n",
       "    </tr>\n",
       "    <tr>\n",
       "      <th>2</th>\n",
       "      <td>2004</td>\n",
       "      <td>AL</td>\n",
       "      <td>Barbour County</td>\n",
       "      <td>1005</td>\n",
       "      <td>5899</td>\n",
       "      <td>4832</td>\n",
       "      <td>46</td>\n",
       "      <td>10777</td>\n",
       "      <td>54.7</td>\n",
       "      <td>44.8</td>\n",
       "      <td>0.4</td>\n",
       "      <td>rep</td>\n",
       "      <td>dem</td>\n",
       "      <td>54.7</td>\n",
       "      <td>9.9</td>\n",
       "      <td>low</td>\n",
       "      <td>Slighty Republican</td>\n",
       "    </tr>\n",
       "    <tr>\n",
       "      <th>3</th>\n",
       "      <td>2004</td>\n",
       "      <td>AL</td>\n",
       "      <td>Bibb County</td>\n",
       "      <td>1007</td>\n",
       "      <td>5472</td>\n",
       "      <td>2089</td>\n",
       "      <td>39</td>\n",
       "      <td>7600</td>\n",
       "      <td>72.0</td>\n",
       "      <td>27.5</td>\n",
       "      <td>0.5</td>\n",
       "      <td>rep</td>\n",
       "      <td>dem</td>\n",
       "      <td>72.0</td>\n",
       "      <td>44.5</td>\n",
       "      <td>high</td>\n",
       "      <td>Very Republican</td>\n",
       "    </tr>\n",
       "    <tr>\n",
       "      <th>4</th>\n",
       "      <td>2004</td>\n",
       "      <td>AL</td>\n",
       "      <td>Blount County</td>\n",
       "      <td>1009</td>\n",
       "      <td>17386</td>\n",
       "      <td>3938</td>\n",
       "      <td>180</td>\n",
       "      <td>21504</td>\n",
       "      <td>80.9</td>\n",
       "      <td>18.3</td>\n",
       "      <td>0.8</td>\n",
       "      <td>rep</td>\n",
       "      <td>dem</td>\n",
       "      <td>80.9</td>\n",
       "      <td>62.6</td>\n",
       "      <td>high</td>\n",
       "      <td>Very Republican</td>\n",
       "    </tr>\n",
       "  </tbody>\n",
       "</table>\n",
       "</div>"
      ],
      "text/plain": [
       "   year State Abbreviation          county  fips  vote_rep  vote_dem  \\\n",
       "0  2004                 AL  Autauga County  1001     15196      4758   \n",
       "1  2004                 AL  Baldwin County  1003     52971     15599   \n",
       "2  2004                 AL  Barbour County  1005      5899      4832   \n",
       "3  2004                 AL     Bibb County  1007      5472      2089   \n",
       "4  2004                 AL   Blount County  1009     17386      3938   \n",
       "\n",
       "   vote_oth  vote_total  pct_rep  pct_dem  pct_oth winner runnerup  \\\n",
       "0       127       20081     75.7     23.7      0.6    rep      dem   \n",
       "1       750       69320     76.4     22.5      1.1    rep      dem   \n",
       "2        46       10777     54.7     44.8      0.4    rep      dem   \n",
       "3        39        7600     72.0     27.5      0.5    rep      dem   \n",
       "4       180       21504     80.9     18.3      0.8    rep      dem   \n",
       "\n",
       "   pct_winner  margin_winner_over_runnerup Homogeny            polarity  \n",
       "0        75.7                         52.0     high     Very Republican  \n",
       "1        76.4                         53.9     high     Very Republican  \n",
       "2        54.7                          9.9      low  Slighty Republican  \n",
       "3        72.0                         44.5     high     Very Republican  \n",
       "4        80.9                         62.6     high     Very Republican  "
      ]
     },
     "execution_count": 341,
     "metadata": {},
     "output_type": "execute_result"
    }
   ],
   "source": [
    "polarity = []\n",
    "\n",
    "\n",
    "# For each row in the column,\n",
    "for index, row in data4.iterrows():\n",
    "    if (row.Homogeny == \"high\") & (row.winner == \"rep\"):\n",
    "        polarity.append('Very Republican')\n",
    "    elif (row.Homogeny  == \"medium\") & (row.winner  == \"rep\"):\n",
    "        polarity.append('Moderately Republican')\n",
    "    elif (row.Homogeny  == \"low\") & (row.winner  == \"rep\"):\n",
    "        polarity.append('Slighty Republican')\n",
    "    elif (row.Homogeny  ==\"high\") & (row.winner  == \"dem\"):\n",
    "        polarity.append('Very Democrat')\n",
    "    # else, if more than a value,\n",
    "    elif (row.Homogeny  == \"medium\")&(row.winner  == \"dem\"):\n",
    "        polarity.append('Moderately Democrat')\n",
    "    # else, if more than a value,\n",
    "    elif (row.Homogeny  == \"low\") &  (row.winner  == \"dem\"):\n",
    "        # Append a letter grade\n",
    "        polarity.append('Slightly Democrat')\n",
    "        \n",
    "# Create a column from the list\n",
    "data4['polarity'] = polarity \n",
    "data4.head()\n"
   ]
  },
  {
   "cell_type": "code",
   "execution_count": null,
   "metadata": {
    "collapsed": true
   },
   "outputs": [],
   "source": []
  },
  {
   "cell_type": "code",
   "execution_count": null,
   "metadata": {
    "collapsed": true,
    "scrolled": true
   },
   "outputs": [],
   "source": [
    "data4.pct_rep.describe()"
   ]
  },
  {
   "cell_type": "code",
   "execution_count": 342,
   "metadata": {},
   "outputs": [
    {
     "data": {
      "text/html": [
       "<div>\n",
       "<style>\n",
       "    .dataframe thead tr:only-child th {\n",
       "        text-align: right;\n",
       "    }\n",
       "\n",
       "    .dataframe thead th {\n",
       "        text-align: left;\n",
       "    }\n",
       "\n",
       "    .dataframe tbody tr th {\n",
       "        vertical-align: top;\n",
       "    }\n",
       "</style>\n",
       "<table border=\"1\" class=\"dataframe\">\n",
       "  <thead>\n",
       "    <tr style=\"text-align: right;\">\n",
       "      <th></th>\n",
       "      <th>margin_winner_over_runnerup</th>\n",
       "    </tr>\n",
       "    <tr>\n",
       "      <th>State Abbreviation</th>\n",
       "      <th></th>\n",
       "    </tr>\n",
       "  </thead>\n",
       "  <tbody>\n",
       "    <tr>\n",
       "      <th>AL</th>\n",
       "      <td>33.511940</td>\n",
       "    </tr>\n",
       "    <tr>\n",
       "      <th>AR</th>\n",
       "      <td>15.730667</td>\n",
       "    </tr>\n",
       "    <tr>\n",
       "      <th>AZ</th>\n",
       "      <td>20.186667</td>\n",
       "    </tr>\n",
       "    <tr>\n",
       "      <th>CA</th>\n",
       "      <td>23.784483</td>\n",
       "    </tr>\n",
       "    <tr>\n",
       "      <th>CO</th>\n",
       "      <td>28.193750</td>\n",
       "    </tr>\n",
       "  </tbody>\n",
       "</table>\n",
       "</div>"
      ],
      "text/plain": [
       "                    margin_winner_over_runnerup\n",
       "State Abbreviation                             \n",
       "AL                                    33.511940\n",
       "AR                                    15.730667\n",
       "AZ                                    20.186667\n",
       "CA                                    23.784483\n",
       "CO                                    28.193750"
      ]
     },
     "execution_count": 342,
     "metadata": {},
     "output_type": "execute_result"
    }
   ],
   "source": [
    "marginData = pd.DataFrame(data4.groupby('State Abbreviation')['margin_winner_over_runnerup'].mean())\n",
    "marginData.head()\n"
   ]
  },
  {
   "cell_type": "code",
   "execution_count": 81,
   "metadata": {},
   "outputs": [
    {
     "data": {
      "text/html": [
       "<div>\n",
       "<style>\n",
       "    .dataframe thead tr:only-child th {\n",
       "        text-align: right;\n",
       "    }\n",
       "\n",
       "    .dataframe thead th {\n",
       "        text-align: left;\n",
       "    }\n",
       "\n",
       "    .dataframe tbody tr th {\n",
       "        vertical-align: top;\n",
       "    }\n",
       "</style>\n",
       "<table border=\"1\" class=\"dataframe\">\n",
       "  <thead>\n",
       "    <tr style=\"text-align: right;\">\n",
       "      <th></th>\n",
       "      <th>margin_winner_over_runnerup</th>\n",
       "    </tr>\n",
       "  </thead>\n",
       "  <tbody>\n",
       "    <tr>\n",
       "      <th>count</th>\n",
       "      <td>49.000000</td>\n",
       "    </tr>\n",
       "    <tr>\n",
       "      <th>mean</th>\n",
       "      <td>26.725158</td>\n",
       "    </tr>\n",
       "    <tr>\n",
       "      <th>std</th>\n",
       "      <td>13.718742</td>\n",
       "    </tr>\n",
       "    <tr>\n",
       "      <th>min</th>\n",
       "      <td>7.706250</td>\n",
       "    </tr>\n",
       "    <tr>\n",
       "      <th>25%</th>\n",
       "      <td>18.451961</td>\n",
       "    </tr>\n",
       "    <tr>\n",
       "      <th>50%</th>\n",
       "      <td>24.046875</td>\n",
       "    </tr>\n",
       "    <tr>\n",
       "      <th>75%</th>\n",
       "      <td>31.474214</td>\n",
       "    </tr>\n",
       "    <tr>\n",
       "      <th>max</th>\n",
       "      <td>79.900000</td>\n",
       "    </tr>\n",
       "  </tbody>\n",
       "</table>\n",
       "</div>"
      ],
      "text/plain": [
       "       margin_winner_over_runnerup\n",
       "count                    49.000000\n",
       "mean                     26.725158\n",
       "std                      13.718742\n",
       "min                       7.706250\n",
       "25%                      18.451961\n",
       "50%                      24.046875\n",
       "75%                      31.474214\n",
       "max                      79.900000"
      ]
     },
     "execution_count": 81,
     "metadata": {},
     "output_type": "execute_result"
    }
   ],
   "source": [
    "marginData.describe()"
   ]
  },
  {
   "cell_type": "code",
   "execution_count": 344,
   "metadata": {},
   "outputs": [
    {
     "data": {
      "text/html": [
       "<div>\n",
       "<style>\n",
       "    .dataframe thead tr:only-child th {\n",
       "        text-align: right;\n",
       "    }\n",
       "\n",
       "    .dataframe thead th {\n",
       "        text-align: left;\n",
       "    }\n",
       "\n",
       "    .dataframe tbody tr th {\n",
       "        vertical-align: top;\n",
       "    }\n",
       "</style>\n",
       "<table border=\"1\" class=\"dataframe\">\n",
       "  <thead>\n",
       "    <tr style=\"text-align: right;\">\n",
       "      <th></th>\n",
       "      <th>margin_winner_over_runnerup</th>\n",
       "      <th>Margins Bin</th>\n",
       "    </tr>\n",
       "    <tr>\n",
       "      <th>State Abbreviation</th>\n",
       "      <th></th>\n",
       "      <th></th>\n",
       "    </tr>\n",
       "  </thead>\n",
       "  <tbody>\n",
       "    <tr>\n",
       "      <th>AL</th>\n",
       "      <td>33.511940</td>\n",
       "      <td>medium</td>\n",
       "    </tr>\n",
       "    <tr>\n",
       "      <th>AR</th>\n",
       "      <td>15.730667</td>\n",
       "      <td>medium</td>\n",
       "    </tr>\n",
       "    <tr>\n",
       "      <th>AZ</th>\n",
       "      <td>20.186667</td>\n",
       "      <td>medium</td>\n",
       "    </tr>\n",
       "    <tr>\n",
       "      <th>CA</th>\n",
       "      <td>23.784483</td>\n",
       "      <td>medium</td>\n",
       "    </tr>\n",
       "    <tr>\n",
       "      <th>CO</th>\n",
       "      <td>28.193750</td>\n",
       "      <td>medium</td>\n",
       "    </tr>\n",
       "  </tbody>\n",
       "</table>\n",
       "</div>"
      ],
      "text/plain": [
       "                    margin_winner_over_runnerup Margins Bin\n",
       "State Abbreviation                                         \n",
       "AL                                    33.511940      medium\n",
       "AR                                    15.730667      medium\n",
       "AZ                                    20.186667      medium\n",
       "CA                                    23.784483      medium\n",
       "CO                                    28.193750      medium"
      ]
     },
     "execution_count": 344,
     "metadata": {},
     "output_type": "execute_result"
    }
   ],
   "source": [
    "def binning(col, cut_points, labels=None):\n",
    "  #Define min and max values:\n",
    "  minval = col.min()\n",
    "  maxval = col.max()\n",
    "\n",
    "  break_points = [minval] + cut_points + [maxval]\n",
    "\n",
    "  if not labels:\n",
    "    labels = range(len(cut_points)+1)\n",
    "  colBin = pd.cut(col,bins=break_points,labels=labels,include_lowest=True)\n",
    "  return colBin\n",
    "\n",
    "cut_points = [13,39]\n",
    "labels = [\"low\",\"medium\",\"high\"]\n",
    "marginData[\"Margins Bin\"] = binning(marginData[\"margin_winner_over_runnerup\"], cut_points, labels = [\"low\",\"medium\",\"high\"])\n",
    "pd.value_counts(marginData[\"margin_winner_over_runnerup\"], sort=False)\n",
    "marginData.head()\n",
    "\n"
   ]
  },
  {
   "cell_type": "code",
   "execution_count": null,
   "metadata": {
    "collapsed": true
   },
   "outputs": [],
   "source": [
    "\n",
    "    "
   ]
  },
  {
   "cell_type": "code",
   "execution_count": 345,
   "metadata": {},
   "outputs": [
    {
     "data": {
      "text/html": [
       "<div>\n",
       "<style>\n",
       "    .dataframe thead tr:only-child th {\n",
       "        text-align: right;\n",
       "    }\n",
       "\n",
       "    .dataframe thead th {\n",
       "        text-align: left;\n",
       "    }\n",
       "\n",
       "    .dataframe tbody tr th {\n",
       "        vertical-align: top;\n",
       "    }\n",
       "</style>\n",
       "<table border=\"1\" class=\"dataframe\">\n",
       "  <thead>\n",
       "    <tr style=\"text-align: right;\">\n",
       "      <th></th>\n",
       "      <th>zipcode</th>\n",
       "      <th>latitude</th>\n",
       "      <th>longitude</th>\n",
       "      <th>avg_agi</th>\n",
       "      <th>Cluster</th>\n",
       "      <th>Place Name</th>\n",
       "      <th>state</th>\n",
       "      <th>State Abbreviation</th>\n",
       "      <th>County</th>\n",
       "      <th>Latitude</th>\n",
       "      <th>Longitude</th>\n",
       "      <th>margin_winner_over_runnerup</th>\n",
       "      <th>Margins Bin</th>\n",
       "    </tr>\n",
       "  </thead>\n",
       "  <tbody>\n",
       "    <tr>\n",
       "      <th>0</th>\n",
       "      <td>35004</td>\n",
       "      <td>33.601525</td>\n",
       "      <td>-86.489546</td>\n",
       "      <td>3.084004</td>\n",
       "      <td>2</td>\n",
       "      <td>Moody</td>\n",
       "      <td>Alabama</td>\n",
       "      <td>AL</td>\n",
       "      <td>St. Clair</td>\n",
       "      <td>33.6035</td>\n",
       "      <td>-86.4668</td>\n",
       "      <td>33.51194</td>\n",
       "      <td>medium</td>\n",
       "    </tr>\n",
       "    <tr>\n",
       "      <th>1</th>\n",
       "      <td>35005</td>\n",
       "      <td>33.604745</td>\n",
       "      <td>-87.042439</td>\n",
       "      <td>2.785734</td>\n",
       "      <td>1</td>\n",
       "      <td>Adamsville</td>\n",
       "      <td>Alabama</td>\n",
       "      <td>AL</td>\n",
       "      <td>Jefferson</td>\n",
       "      <td>33.5884</td>\n",
       "      <td>-86.9597</td>\n",
       "      <td>33.51194</td>\n",
       "      <td>medium</td>\n",
       "    </tr>\n",
       "    <tr>\n",
       "      <th>2</th>\n",
       "      <td>35006</td>\n",
       "      <td>33.429346</td>\n",
       "      <td>-87.202099</td>\n",
       "      <td>2.885881</td>\n",
       "      <td>1</td>\n",
       "      <td>Adger</td>\n",
       "      <td>Alabama</td>\n",
       "      <td>AL</td>\n",
       "      <td>Jefferson</td>\n",
       "      <td>33.4343</td>\n",
       "      <td>-87.1675</td>\n",
       "      <td>33.51194</td>\n",
       "      <td>medium</td>\n",
       "    </tr>\n",
       "    <tr>\n",
       "      <th>3</th>\n",
       "      <td>35007</td>\n",
       "      <td>33.228822</td>\n",
       "      <td>-86.791901</td>\n",
       "      <td>3.262145</td>\n",
       "      <td>4</td>\n",
       "      <td>Alabaster</td>\n",
       "      <td>Alabama</td>\n",
       "      <td>AL</td>\n",
       "      <td>Shelby</td>\n",
       "      <td>33.1934</td>\n",
       "      <td>-86.7944</td>\n",
       "      <td>33.51194</td>\n",
       "      <td>medium</td>\n",
       "    </tr>\n",
       "    <tr>\n",
       "      <th>4</th>\n",
       "      <td>35010</td>\n",
       "      <td>32.944644</td>\n",
       "      <td>-85.910009</td>\n",
       "      <td>2.642072</td>\n",
       "      <td>1</td>\n",
       "      <td>Alexander City</td>\n",
       "      <td>Alabama</td>\n",
       "      <td>AL</td>\n",
       "      <td>Tallapoosa</td>\n",
       "      <td>32.9164</td>\n",
       "      <td>-85.9368</td>\n",
       "      <td>33.51194</td>\n",
       "      <td>medium</td>\n",
       "    </tr>\n",
       "  </tbody>\n",
       "</table>\n",
       "</div>"
      ],
      "text/plain": [
       "  zipcode   latitude  longitude   avg_agi  Cluster      Place Name    state  \\\n",
       "0   35004  33.601525 -86.489546  3.084004        2           Moody  Alabama   \n",
       "1   35005  33.604745 -87.042439  2.785734        1      Adamsville  Alabama   \n",
       "2   35006  33.429346 -87.202099  2.885881        1           Adger  Alabama   \n",
       "3   35007  33.228822 -86.791901  3.262145        4       Alabaster  Alabama   \n",
       "4   35010  32.944644 -85.910009  2.642072        1  Alexander City  Alabama   \n",
       "\n",
       "  State Abbreviation      County  Latitude  Longitude  \\\n",
       "0                 AL   St. Clair   33.6035   -86.4668   \n",
       "1                 AL   Jefferson   33.5884   -86.9597   \n",
       "2                 AL   Jefferson   33.4343   -87.1675   \n",
       "3                 AL      Shelby   33.1934   -86.7944   \n",
       "4                 AL  Tallapoosa   32.9164   -85.9368   \n",
       "\n",
       "   margin_winner_over_runnerup Margins Bin  \n",
       "0                     33.51194      medium  \n",
       "1                     33.51194      medium  \n",
       "2                     33.51194      medium  \n",
       "3                     33.51194      medium  \n",
       "4                     33.51194      medium  "
      ]
     },
     "execution_count": 345,
     "metadata": {},
     "output_type": "execute_result"
    }
   ],
   "source": [
    "left = result\n",
    "right = marginData \n",
    "resultF = left.join(right, on='State Abbreviation')\n",
    "resultF.head()"
   ]
  },
  {
   "cell_type": "raw",
   "metadata": {
    "collapsed": true
   },
   "source": [
    "resultF = result.merge(marginData, on='State Abbreviation', how='left')\n",
    "resultF.head()"
   ]
  },
  {
   "cell_type": "code",
   "execution_count": null,
   "metadata": {
    "collapsed": true
   },
   "outputs": [],
   "source": [
    "resultF.plot.scatter(\"avg_agi\", \"margin_winner_over_runnerup\", s=.4, c = \"magenta\")\n"
   ]
  },
  {
   "cell_type": "code",
   "execution_count": null,
   "metadata": {
    "collapsed": true
   },
   "outputs": [],
   "source": [
    "resultF.plot.bar(x= \"Cluster\", y =\"margin_winner_over_runnerup\")\n"
   ]
  },
  {
   "cell_type": "code",
   "execution_count": null,
   "metadata": {
    "collapsed": true
   },
   "outputs": [],
   "source": [
    "\n",
    "resultF.plot.bar(x= \"state\", y =\"margin_winner_over_runnerup\", title = \"Average Margin of Winning Candidate over the Runnerup in the 2012 Election\",linewidth=4.0,figsize=(15, 10), width = .7, colormap = \"Accent\")\n",
    "\n"
   ]
  },
  {
   "cell_type": "code",
   "execution_count": null,
   "metadata": {
    "collapsed": true
   },
   "outputs": [],
   "source": []
  },
  {
   "cell_type": "code",
   "execution_count": 64,
   "metadata": {
    "collapsed": true
   },
   "outputs": [],
   "source": []
  },
  {
   "cell_type": "code",
   "execution_count": null,
   "metadata": {
    "collapsed": true
   },
   "outputs": [],
   "source": [
    "\n"
   ]
  },
  {
   "cell_type": "code",
   "execution_count": null,
   "metadata": {
    "collapsed": true
   },
   "outputs": [],
   "source": []
  },
  {
   "cell_type": "code",
   "execution_count": null,
   "metadata": {
    "collapsed": true
   },
   "outputs": [],
   "source": []
  },
  {
   "cell_type": "code",
   "execution_count": null,
   "metadata": {
    "collapsed": true
   },
   "outputs": [],
   "source": []
  },
  {
   "cell_type": "code",
   "execution_count": 50,
   "metadata": {
    "collapsed": true
   },
   "outputs": [],
   "source": []
  },
  {
   "cell_type": "code",
   "execution_count": null,
   "metadata": {
    "collapsed": true
   },
   "outputs": [],
   "source": []
  },
  {
   "cell_type": "code",
   "execution_count": null,
   "metadata": {
    "collapsed": true
   },
   "outputs": [],
   "source": []
  },
  {
   "cell_type": "code",
   "execution_count": null,
   "metadata": {
    "collapsed": true
   },
   "outputs": [],
   "source": []
  },
  {
   "cell_type": "code",
   "execution_count": null,
   "metadata": {
    "collapsed": true
   },
   "outputs": [],
   "source": []
  },
  {
   "cell_type": "code",
   "execution_count": null,
   "metadata": {
    "collapsed": true
   },
   "outputs": [],
   "source": []
  },
  {
   "cell_type": "code",
   "execution_count": null,
   "metadata": {
    "collapsed": true
   },
   "outputs": [],
   "source": []
  },
  {
   "cell_type": "code",
   "execution_count": null,
   "metadata": {
    "collapsed": true
   },
   "outputs": [],
   "source": []
  },
  {
   "cell_type": "code",
   "execution_count": null,
   "metadata": {
    "collapsed": true
   },
   "outputs": [],
   "source": []
  },
  {
   "cell_type": "code",
   "execution_count": null,
   "metadata": {
    "collapsed": true
   },
   "outputs": [],
   "source": []
  },
  {
   "cell_type": "code",
   "execution_count": null,
   "metadata": {
    "collapsed": true
   },
   "outputs": [],
   "source": []
  },
  {
   "cell_type": "code",
   "execution_count": null,
   "metadata": {
    "collapsed": true
   },
   "outputs": [],
   "source": []
  },
  {
   "cell_type": "code",
   "execution_count": null,
   "metadata": {
    "collapsed": true
   },
   "outputs": [],
   "source": []
  },
  {
   "cell_type": "code",
   "execution_count": null,
   "metadata": {
    "collapsed": true
   },
   "outputs": [],
   "source": []
  },
  {
   "cell_type": "code",
   "execution_count": null,
   "metadata": {
    "collapsed": true
   },
   "outputs": [],
   "source": []
  },
  {
   "cell_type": "code",
   "execution_count": null,
   "metadata": {
    "collapsed": true
   },
   "outputs": [],
   "source": []
  },
  {
   "cell_type": "code",
   "execution_count": null,
   "metadata": {
    "collapsed": true
   },
   "outputs": [],
   "source": []
  },
  {
   "cell_type": "code",
   "execution_count": null,
   "metadata": {
    "collapsed": true
   },
   "outputs": [],
   "source": []
  },
  {
   "cell_type": "code",
   "execution_count": null,
   "metadata": {
    "collapsed": true
   },
   "outputs": [],
   "source": []
  },
  {
   "cell_type": "code",
   "execution_count": null,
   "metadata": {
    "collapsed": true
   },
   "outputs": [],
   "source": []
  },
  {
   "cell_type": "code",
   "execution_count": null,
   "metadata": {
    "collapsed": true
   },
   "outputs": [],
   "source": []
  },
  {
   "cell_type": "code",
   "execution_count": null,
   "metadata": {
    "collapsed": true
   },
   "outputs": [],
   "source": []
  },
  {
   "cell_type": "code",
   "execution_count": null,
   "metadata": {
    "collapsed": true
   },
   "outputs": [],
   "source": []
  },
  {
   "cell_type": "code",
   "execution_count": null,
   "metadata": {
    "collapsed": true
   },
   "outputs": [],
   "source": []
  },
  {
   "cell_type": "code",
   "execution_count": null,
   "metadata": {
    "collapsed": true
   },
   "outputs": [],
   "source": []
  },
  {
   "cell_type": "code",
   "execution_count": null,
   "metadata": {
    "collapsed": true
   },
   "outputs": [],
   "source": []
  },
  {
   "cell_type": "code",
   "execution_count": null,
   "metadata": {
    "collapsed": true
   },
   "outputs": [],
   "source": []
  },
  {
   "cell_type": "code",
   "execution_count": null,
   "metadata": {
    "collapsed": true
   },
   "outputs": [],
   "source": []
  },
  {
   "cell_type": "code",
   "execution_count": null,
   "metadata": {
    "collapsed": true
   },
   "outputs": [],
   "source": []
  },
  {
   "cell_type": "code",
   "execution_count": null,
   "metadata": {
    "collapsed": true
   },
   "outputs": [],
   "source": []
  },
  {
   "cell_type": "code",
   "execution_count": null,
   "metadata": {
    "collapsed": true
   },
   "outputs": [],
   "source": []
  },
  {
   "cell_type": "code",
   "execution_count": null,
   "metadata": {
    "collapsed": true
   },
   "outputs": [],
   "source": []
  },
  {
   "cell_type": "code",
   "execution_count": null,
   "metadata": {
    "collapsed": true
   },
   "outputs": [],
   "source": []
  },
  {
   "cell_type": "code",
   "execution_count": null,
   "metadata": {
    "collapsed": true
   },
   "outputs": [],
   "source": []
  },
  {
   "cell_type": "code",
   "execution_count": null,
   "metadata": {
    "collapsed": true
   },
   "outputs": [],
   "source": []
  },
  {
   "cell_type": "code",
   "execution_count": null,
   "metadata": {
    "collapsed": true
   },
   "outputs": [],
   "source": []
  },
  {
   "cell_type": "code",
   "execution_count": null,
   "metadata": {
    "collapsed": true
   },
   "outputs": [],
   "source": []
  },
  {
   "cell_type": "code",
   "execution_count": null,
   "metadata": {
    "collapsed": true
   },
   "outputs": [],
   "source": []
  },
  {
   "cell_type": "code",
   "execution_count": null,
   "metadata": {
    "collapsed": true
   },
   "outputs": [],
   "source": []
  },
  {
   "cell_type": "code",
   "execution_count": null,
   "metadata": {
    "collapsed": true
   },
   "outputs": [],
   "source": []
  },
  {
   "cell_type": "code",
   "execution_count": null,
   "metadata": {
    "collapsed": true
   },
   "outputs": [],
   "source": []
  },
  {
   "cell_type": "code",
   "execution_count": null,
   "metadata": {
    "collapsed": true
   },
   "outputs": [],
   "source": []
  },
  {
   "cell_type": "code",
   "execution_count": null,
   "metadata": {
    "collapsed": true
   },
   "outputs": [],
   "source": []
  },
  {
   "cell_type": "code",
   "execution_count": null,
   "metadata": {
    "collapsed": true
   },
   "outputs": [],
   "source": []
  },
  {
   "cell_type": "code",
   "execution_count": null,
   "metadata": {
    "collapsed": true
   },
   "outputs": [],
   "source": []
  },
  {
   "cell_type": "code",
   "execution_count": null,
   "metadata": {
    "collapsed": true
   },
   "outputs": [],
   "source": []
  }
 ],
 "metadata": {
  "kernelspec": {
   "display_name": "Python 3",
   "language": "python",
   "name": "python3"
  },
  "language_info": {
   "codemirror_mode": {
    "name": "ipython",
    "version": 3
   },
   "file_extension": ".py",
   "mimetype": "text/x-python",
   "name": "python",
   "nbconvert_exporter": "python",
   "pygments_lexer": "ipython3",
   "version": "3.6.3"
  }
 },
 "nbformat": 4,
 "nbformat_minor": 2
}
