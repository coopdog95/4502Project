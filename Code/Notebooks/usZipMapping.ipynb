{
 "cells": [
  {
   "cell_type": "code",
   "execution_count": 1,
   "metadata": {
    "collapsed": true
   },
   "outputs": [],
   "source": [
    "#%pylab inline\n",
    "import pandas as pd\n",
    "#import numpy as np\n",
    "from mapboxgl.utils import *\n",
    "from mapboxgl.viz import * \n",
    "import os\n",
    "import html\n",
    "#from scipy.io import arff\n",
    "\n",
    "#data = arff.loadarff('10rounds.arff')"
   ]
  },
  {
   "cell_type": "code",
   "execution_count": 3,
   "metadata": {},
   "outputs": [
    {
     "data": {
      "text/plain": [
       "zipcode      27428\n",
       "latitude     27428\n",
       "longitude    27428\n",
       "avg_agi      27428\n",
       "Cluster      27428\n",
       "dtype: int64"
      ]
     },
     "execution_count": 3,
     "metadata": {},
     "output_type": "execute_result"
    }
   ],
   "source": [
    "df = pd.read_csv(\"csvs/2015Cluster.csv\")\n",
    "df.count()"
   ]
  },
  {
   "cell_type": "code",
   "execution_count": 5,
   "metadata": {},
   "outputs": [
    {
     "data": {
      "text/plain": [
       "count    27428.000000\n",
       "mean         2.475062\n",
       "std          1.686066\n",
       "min          0.000000\n",
       "25%          1.000000\n",
       "50%          2.000000\n",
       "75%          4.000000\n",
       "max          5.000000\n",
       "Name: Cluster, dtype: float64"
      ]
     },
     "execution_count": 5,
     "metadata": {},
     "output_type": "execute_result"
    }
   ],
   "source": [
    "df.Cluster.describe()"
   ]
  },
  {
   "cell_type": "code",
   "execution_count": 6,
   "metadata": {
    "collapsed": true
   },
   "outputs": [],
   "source": [
    "os.environ['MAPBOX_ACCESS_TOKEN']=\"pk.eyJ1IjoiY29vcGVydDkyNSIsImEiOiJjamdmd3l6ZjIwOHFkMzNwNHc5MjRtbTd6In0.GdxOVpiAfQ2WgZgfF_FUbg\"\n",
    "token = os.getenv('MAPBOX_ACCESS_TOKEN')"
   ]
  },
  {
   "cell_type": "code",
   "execution_count": 7,
   "metadata": {
    "collapsed": true
   },
   "outputs": [],
   "source": [
    "data = df_to_geojson(df, filename=\"2015plot.geojson\",\n",
    "             properties=['zipcode','avg_agi','Cluster'],\n",
    "             lat='latitude',lon='longitude', precision=5)"
   ]
  },
  {
   "cell_type": "code",
   "execution_count": 8,
   "metadata": {
    "collapsed": true
   },
   "outputs": [],
   "source": [
    "#color_breaks = mapclassify.Natural_Breaks(df['avg_agi'], k=6, initial=0).bins\n",
    "breaks = [0,1,2,3,4,5]\n",
    "color_stops = create_color_stops(breaks, colors='YlOrRd')"
   ]
  },
  {
   "cell_type": "code",
   "execution_count": 10,
   "metadata": {},
   "outputs": [
    {
     "data": {
      "text/plain": [
       "[[0, 'rgb(255,255,178)'],\n",
       " [1, 'rgb(254,217,118)'],\n",
       " [2, 'rgb(254,178,76)'],\n",
       " [3, 'rgb(253,141,60)'],\n",
       " [4, 'rgb(240,59,32)'],\n",
       " [5, 'rgb(189,0,38)']]"
      ]
     },
     "execution_count": 10,
     "metadata": {},
     "output_type": "execute_result"
    }
   ],
   "source": [
    "\n",
    "\n",
    "color_stops2 = [[1, 'rgb(255,255,204)'],\n",
    "                [1.6333, 'rgb(255,255,153)'],\n",
    "                [2.2666, 'rgb(255,255,102)'],\n",
    "                [2.8999, 'rgb(255,255,51)'],\n",
    "                [3.5333, 'rgb(255,255,0)'],\n",
    "                [4.2, 'rgb(255,0,0)']]\n",
    "\n",
    "color_stops3 = [[1, 'rgb(250,250,210)'],\n",
    "             [1.6333, 'rgb(240,230,140)'],\n",
    "             [2.2666, 'rgb(255,215,0)'],\n",
    "             [2.28999, 'rgb(255,165,0)'],\n",
    "             [3.5333, 'rgb(255,135,0)'],\n",
    "             [4.2, 'rgb(255,0,0)']]\n",
    "color_stops"
   ]
  },
  {
   "cell_type": "markdown",
   "metadata": {
    "collapsed": true
   },
   "source": [
    "##### df[(df['avg_agi'] >= 4.5) & (df['avg_agi'] <= 5)].count()"
   ]
  },
  {
   "cell_type": "code",
   "execution_count": null,
   "metadata": {
    "collapsed": true
   },
   "outputs": [],
   "source": [
    "df15 = pd.read_csv(\"FIX2015zip.csv\")\n",
    "df2 = df15[(df15['zipcode'] != 0) & (df15['zipcode'] != 99999)]\n",
    "#df2[df2['n1'] > 2000].value_counts()\n",
    "#df2.sort_values(['n1', 'agi_stub'],ascending=[0,0])\n",
    "#df15[(df15.zipcode >= 94500) & (df15.zipcode <= 96000)][420:700]"
   ]
  },
  {
   "cell_type": "code",
   "execution_count": 9,
   "metadata": {},
   "outputs": [
    {
     "data": {
      "text/html": [
       "<iframe id=\"map\", srcdoc=\"<!DOCTYPE html>\n",
       "<html>\n",
       "<head>\n",
       "<title>mapboxgl-jupyter viz</title>\n",
       "<meta charset='UTF-8' />\n",
       "<meta name='viewport'\n",
       "      content='initial-scale=1,maximum-scale=1,user-scalable=no' />\n",
       "<script type='text/javascript'\n",
       "        src='https://api.tiles.mapbox.com/mapbox-gl-js/v0.44.1/mapbox-gl.js'></script>\n",
       "<link type='text/css'\n",
       "      href='https://api.tiles.mapbox.com/mapbox-gl-js/v0.44.1/mapbox-gl.css' rel='stylesheet' />\n",
       "<style type='text/css'>\n",
       "    body { margin:0; padding:0; }\n",
       "    .map { position:absolute; top:0; bottom:0; width:100%; }\n",
       "    .legend {\n",
       "        background-color: white;\n",
       "        color: black;\n",
       "        border-radius: 3px;\n",
       "        bottom: 50px;\n",
       "        width: 100px;\n",
       "        box-shadow: 0 1px 2px rgba(0, 0, 0, 0.10);\n",
       "        font: 12px/20px 'Helvetica Neue', Arial, Helvetica, sans-serif;\n",
       "        padding: 12px;\n",
       "        position: absolute;\n",
       "        right: 10px;\n",
       "        z-index: 1;\n",
       "    }\n",
       "    .legend h4 { margin: 0 0 10px; }\n",
       "    .legend-title {\n",
       "        margin: 6px;\n",
       "        padding: 6px;\n",
       "        font-weight: bold !important;\n",
       "        font-size: 14px;\n",
       "        font: 12px/20px 'Helvetica Neue', Arial, Helvetica, sans-serif;\n",
       "    }\n",
       "    .legend div span {\n",
       "        border-radius: 50%;\n",
       "        display: inline-block;\n",
       "        height: 10px;\n",
       "        margin-right: 5px;\n",
       "        width: 10px;\n",
       "    }\n",
       "</style>\n",
       "\n",
       "</head>\n",
       "<body>\n",
       "\n",
       "<div id='map' class='map'></div>\n",
       "<div id='legend' class='legend'></div>\n",
       "\n",
       "<script type='text/javascript'>\n",
       "\n",
       "function calcCircleColorLegend(myColorStops, title) {\n",
       "    //Calculate a legend element on a Mapbox GL Style Spec property function stops array\n",
       "    var mytitle = document.createElement('div');\n",
       "    mytitle.textContent = title;\n",
       "    mytitle.className = 'legend-title'\n",
       "    var legend = document.getElementById('legend');\n",
       "    legend.appendChild(mytitle);\n",
       "\n",
       "    for (p = 0; p < myColorStops.length; p++) {\n",
       "        if (!!document.getElementById('legend-points-value-' + p)) {\n",
       "            //update the legend if it already exists\n",
       "            document.getElementById('legend-points-value-' + p).textContent = myColorStops[p][0];\n",
       "            document.getElementById('legend-points-id-' + p).style.backgroundColor = myColorStops[p][1];\n",
       "        } else {\n",
       "            //create the legend if it doesn't yet exist\n",
       "            var item = document.createElement('div');\n",
       "            var key = document.createElement('span');\n",
       "            key.className = 'legend-key';\n",
       "            var value = document.createElement('span');\n",
       "\n",
       "            key.id = 'legend-points-id-' + p;\n",
       "            key.style.backgroundColor = myColorStops[p][1];\n",
       "            value.id = 'legend-points-value-' + p;\n",
       "\n",
       "            item.appendChild(key);\n",
       "            item.appendChild(value);\n",
       "            legend.appendChild(item);\n",
       "            \n",
       "            data = document.getElementById('legend-points-value-' + p)\n",
       "            data.textContent = myColorStops[p][0];\n",
       "        }\n",
       "    }\n",
       "}\n",
       "\n",
       "function generateInterpolateExpression(propertyValue, stops) {\n",
       "    var expression;\n",
       "    if (propertyValue == 'zoom') {\n",
       "        expression = ['interpolate', ['exponential', 1.2], ['zoom']]\n",
       "    }\n",
       "    else if (propertyValue == 'heatmap-density') {\n",
       "        expression = ['interpolate', ['exponential', 1.2], ['heatmap-density']]\n",
       "    }\n",
       "    else {\n",
       "        expression = ['interpolate', ['exponential', 1.2], ['get', propertyValue]]\n",
       "    }\n",
       "\n",
       "    for (var i=0; i<stops.length; i++) {\n",
       "        expression.push(stops[i][0], stops[i][1])\n",
       "    }\n",
       "    return expression\n",
       "}\n",
       "\n",
       "\n",
       "function generateMatchExpression(propertyValue, stops, defaultValue) {\n",
       "    var expression;\n",
       "    expression = ['match', ['get', propertyValue]]\n",
       "    for (var i=0; i<stops.length; i++) {\n",
       "        expression.push(stops[i][0], stops[i][1])\n",
       "    }\n",
       "    expression.push(defaultValue)\n",
       "    \n",
       "    return expression\n",
       "}\n",
       "\n",
       "\n",
       "function generatePropertyExpression(expressionType, propertyValue, stops, defaultValue) {\n",
       "    var expression;\n",
       "    if (expressionType == 'match') {\n",
       "        expression = generateMatchExpression(propertyValue, stops, defaultValue)\n",
       "    }\n",
       "    else {\n",
       "        expression = generateInterpolateExpression(propertyValue, stops)\n",
       "    }\n",
       "\n",
       "    return expression\n",
       "}\n",
       "\n",
       "\n",
       "</script>\n",
       "\n",
       "<!-- main map creation code, extended by mapboxgl/templates/circle.html -->\n",
       "<script type='text/javascript'>\n",
       "\n",
       "\n",
       "    mapboxgl.accessToken = 'pk.eyJ1IjoiY29vcGVydDkyNSIsImEiOiJjamdmd3l6ZjIwOHFkMzNwNHc5MjRtbTd6In0.GdxOVpiAfQ2WgZgfF_FUbg';\n",
       "\n",
       "    var map = new mapboxgl.Map({\n",
       "        container: 'map',\n",
       "        style: 'mapbox://styles/mapbox/light-v9?optimize=true',\n",
       "        center: [-95, 39],\n",
       "        zoom: 3,\n",
       "        transformRequest: (url, resourceType)=> {\n",
       "            if ( url.slice(0,22) == 'https://api.mapbox.com' ) {\n",
       "                //Add Python Plugin identifier for Mapbox API traffic\n",
       "                return {\n",
       "                   url: [url.slice(0, url.indexOf('?')+1), 'pluginName=PythonMapboxgl&', url.slice(url.indexOf('?')+1)].join('')\n",
       "                 }\n",
       "             }\n",
       "             else {\n",
       "                 //Do not transform URL for non Mapbox GET requests\n",
       "                 return {url: url}\n",
       "             }\n",
       "        }\n",
       "    });\n",
       "\n",
       "    \n",
       "\n",
       "        map.addControl(new mapboxgl.NavigationControl());\n",
       "\n",
       "    \n",
       "\n",
       "    \n",
       "\n",
       "    \n",
       "        calcCircleColorLegend([[0, 'rgb(255,255,178)'], [1, 'rgb(254,217,118)'], [2, 'rgb(254,178,76)'], [3, 'rgb(253,141,60)'], [4, 'rgb(240,59,32)'], [5, 'rgb(189,0,38)']] , 'Cluster');\n",
       "    \n",
       "    \n",
       "\n",
       "\n",
       "    \n",
       "\n",
       "    map.on('style.load', function() {\n",
       "        \n",
       "        map.addSource('data', {\n",
       "            'type': 'geojson',\n",
       "            'data': '2015plot.geojson',\n",
       "            'buffer': 1,\n",
       "            'maxzoom': 14\n",
       "        });\n",
       "\n",
       "        map.addLayer({\n",
       "            'id': 'label',\n",
       "            'source': 'data',\n",
       "            'type': 'symbol',\n",
       "            'maxzoom': 24,\n",
       "            'minzoom': 0,\n",
       "            'layout': {\n",
       "                \n",
       "                'text-size' : generateInterpolateExpression('zoom', [[0, 8],[22, 3* 8]] ),\n",
       "                'text-offset': [0,-1]\n",
       "            },\n",
       "            'paint': {\n",
       "                'text-halo-color': 'white',\n",
       "                'text-halo-width': generatePropertyExpression('interpolate', 'zoom', [[0,1], [18,5* 1]]),\n",
       "                'text-color': '#131516'\n",
       "            }\n",
       "        }, 'waterway-label' )\n",
       "        \n",
       "        map.addLayer({\n",
       "            'id': 'circle',\n",
       "            'source': 'data',\n",
       "            'type': 'circle',\n",
       "            'maxzoom': 24,\n",
       "            'minzoom': 0,\n",
       "            'paint': {\n",
       "                \n",
       "                    'circle-color': generatePropertyExpression('match', 'Cluster', [[0, 'rgb(255,255,178)'], [1, 'rgb(254,217,118)'], [2, 'rgb(254,178,76)'], [3, 'rgb(253,141,60)'], [4, 'rgb(240,59,32)'], [5, 'rgb(189,0,38)']], 'grey' ),\n",
       "                    \n",
       "                'circle-radius' : generatePropertyExpression('interpolate', 'zoom', [[0,1.5], [22,10 * 1.5]]),\n",
       "                'circle-stroke-color': 'grey',\n",
       "                'circle-stroke-width': generatePropertyExpression('interpolate', 'zoom', [[0,0.0], [18,5* 0.0]]),\n",
       "                'circle-opacity' : 1,\n",
       "                'circle-stroke-opacity' : 1\n",
       "            }\n",
       "        }, 'label');\n",
       "        \n",
       "        // Create a popup\n",
       "        var popup = new mapboxgl.Popup({\n",
       "            closeButton: false,\n",
       "            closeOnClick: false\n",
       "        });\n",
       "        \n",
       "        // Show the popup on mouseover\n",
       "        map.on('mousemove', 'circle', function(e) {\n",
       "            map.getCanvas().style.cursor = 'pointer';\n",
       "            \n",
       "            let f = e.features[0];\n",
       "            let popup_html = '<div><li><b>Location</b>: ' + f.geometry.coordinates[0].toPrecision(6) + \n",
       "                ', ' + f.geometry.coordinates[1].toPrecision(6) + '</li>';\n",
       "\n",
       "            for (key in f.properties) {\n",
       "                popup_html += '<li><b> ' + key + '</b>: ' + f.properties[key] + ' </li>'\n",
       "            }\n",
       "\n",
       "            popup_html += '</div>'\n",
       "            popup.setLngLat(e.features[0].geometry.coordinates)\n",
       "                .setHTML(popup_html)\n",
       "                .addTo(map);\n",
       "        });\n",
       "\n",
       "        map.on('mouseleave', 'circle', function() {\n",
       "            map.getCanvas().style.cursor = '';\n",
       "            popup.remove();\n",
       "        });\n",
       "        \n",
       "        // Fly to on click\n",
       "        map.on('click', 'circle', function(e) {\n",
       "            map.easeTo({\n",
       "                center: e.features[0].geometry.coordinates,\n",
       "                zoom: map.getZoom() + 1\n",
       "            });\n",
       "        });\n",
       "    });\n",
       "\n",
       "\n",
       "\n",
       "\n",
       "</script>\n",
       "\n",
       "</body>\n",
       "</html>\" style=\"width: 100%; height: 400px;\"></iframe>"
      ],
      "text/plain": [
       "<IPython.core.display.HTML object>"
      ]
     },
     "metadata": {},
     "output_type": "display_data"
    }
   ],
   "source": [
    "viz = CircleViz('2015plot.geojson',\n",
    "                 access_token=token,\n",
    "                 height='400px',\n",
    "                 radius=1.5,\n",
    "                 color_property='Cluster',\n",
    "                 color_function_type='match',\n",
    "                 color_stops = color_stops,\n",
    "                 center=[-95, 39],\n",
    "                 stroke_width=0.0,\n",
    "                 zoom=3,\n",
    "                 below_layer = 'waterway-label')\n",
    "                 #style='mapbox://styles/mapbox/dark-v9')\n",
    "viz.show()\n",
    "#viz.create_html(\"2015h.html\")\n",
    "#below_layer='waterway-label'"
   ]
  },
  {
   "cell_type": "code",
   "execution_count": null,
   "metadata": {
    "collapsed": true
   },
   "outputs": [],
   "source": [
    "html = open(\"2015zipsH.html\", \"w\")\n",
    "html.write(viz.create_html())\n",
    "html.close"
   ]
  },
  {
   "cell_type": "code",
   "execution_count": null,
   "metadata": {
    "collapsed": true
   },
   "outputs": [],
   "source": []
  },
  {
   "cell_type": "code",
   "execution_count": null,
   "metadata": {
    "collapsed": true
   },
   "outputs": [],
   "source": [
    "with open('viz.html', 'w') as f:\n",
    "    f.write(viz.create_html())"
   ]
  },
  {
   "cell_type": "code",
   "execution_count": null,
   "metadata": {
    "collapsed": true
   },
   "outputs": [],
   "source": []
  }
 ],
 "metadata": {
  "kernelspec": {
   "display_name": "Python 3",
   "language": "python",
   "name": "python3"
  },
  "language_info": {
   "codemirror_mode": {
    "name": "ipython",
    "version": 3
   },
   "file_extension": ".py",
   "mimetype": "text/x-python",
   "name": "python",
   "nbconvert_exporter": "python",
   "pygments_lexer": "ipython3",
   "version": "3.6.3"
  }
 },
 "nbformat": 4,
 "nbformat_minor": 2
}
