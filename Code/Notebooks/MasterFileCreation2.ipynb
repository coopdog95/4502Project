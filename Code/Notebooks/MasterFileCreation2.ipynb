{
 "cells": [
  {
   "cell_type": "code",
   "execution_count": 1,
   "metadata": {
    "collapsed": true
   },
   "outputs": [],
   "source": [
    "import pandas as pd\n",
    "import numpy as np\n",
    "\n",
    "dfM = pd.read_csv(\"zipLatLon.csv\")\n",
    "dfY = pd.read_csv(\"csvs/2005Cluster.csv\")"
   ]
  },
  {
   "cell_type": "code",
   "execution_count": 2,
   "metadata": {
    "collapsed": true
   },
   "outputs": [],
   "source": [
    "dfM = pd.read_csv(\"Master2.csv\")"
   ]
  },
  {
   "cell_type": "code",
   "execution_count": 5,
   "metadata": {},
   "outputs": [
    {
     "data": {
      "text/plain": [
       "zipcode      False\n",
       "latitude     False\n",
       "longitude    False\n",
       "2005         False\n",
       "2006         False\n",
       "2007         False\n",
       "2008         False\n",
       "2009         False\n",
       "2010         False\n",
       "2011         False\n",
       "2012         False\n",
       "2013         False\n",
       "2014         False\n",
       "2015         False\n",
       "dtype: bool"
      ]
     },
     "execution_count": 5,
     "metadata": {},
     "output_type": "execute_result"
    }
   ],
   "source": [
    "dfM.isnull().any()"
   ]
  },
  {
   "cell_type": "code",
   "execution_count": null,
   "metadata": {},
   "outputs": [],
   "source": [
    "dfY = pd.read_csv(\"csvs/2006Cluster.csv\")\n",
    "dfY.head()"
   ]
  },
  {
   "cell_type": "code",
   "execution_count": null,
   "metadata": {},
   "outputs": [],
   "source": [
    "dfY = dfY[['zipcode', 'Cluster']]\n",
    "dfY.head()"
   ]
  },
  {
   "cell_type": "code",
   "execution_count": null,
   "metadata": {},
   "outputs": [],
   "source": [
    "dfM = dfM.merge(dfY, on='zipcode', how='left') ##MERGE COLUMNS\n",
    "dfM.head()"
   ]
  },
  {
   "cell_type": "code",
   "execution_count": null,
   "metadata": {},
   "outputs": [],
   "source": [
    "#dfM['Cluster'].fillna(0)\n",
    "dfM['Cluster'] = dfM['Cluster'].replace(np.inf, 0)\n",
    "dfM['Cluster'] = dfM['Cluster'].replace(np.nan, 0)\n",
    "\n",
    "dfM['Cluster'] = dfM['Cluster'].astype(int)"
   ]
  },
  {
   "cell_type": "code",
   "execution_count": null,
   "metadata": {},
   "outputs": [],
   "source": [
    "#dfM = dfM.rename(columns={\"Cluster\": \"2006\"}) ###RENAME NEW COLUMN TO YEAR\n",
    "dfM['2006'].isnull().count()\n"
   ]
  },
  {
   "cell_type": "code",
   "execution_count": null,
   "metadata": {
    "collapsed": true
   },
   "outputs": [],
   "source": [
    "dfM.to_csv(\"Master2.csv\",index=False)"
   ]
  },
  {
   "cell_type": "code",
   "execution_count": null,
   "metadata": {
    "collapsed": true
   },
   "outputs": [],
   "source": []
  }
 ],
 "metadata": {
  "kernelspec": {
   "display_name": "Python 3",
   "language": "python",
   "name": "python3"
  },
  "language_info": {
   "codemirror_mode": {
    "name": "ipython",
    "version": 3
   },
   "file_extension": ".py",
   "mimetype": "text/x-python",
   "name": "python",
   "nbconvert_exporter": "python",
   "pygments_lexer": "ipython3",
   "version": "3.6.3"
  }
 },
 "nbformat": 4,
 "nbformat_minor": 2
}
